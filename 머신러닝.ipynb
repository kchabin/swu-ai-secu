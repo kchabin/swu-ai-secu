{
  "nbformat": 4,
  "nbformat_minor": 0,
  "metadata": {
    "colab": {
      "provenance": [],
      "toc_visible": true,
      "gpuType": "L4",
      "include_colab_link": true
    },
    "kernelspec": {
      "name": "python3",
      "display_name": "Python 3"
    },
    "language_info": {
      "name": "python"
    },
    "accelerator": "GPU"
  },
  "cells": [
    {
      "cell_type": "markdown",
      "metadata": {
        "id": "view-in-github",
        "colab_type": "text"
      },
      "source": [
        "<a href=\"https://colab.research.google.com/github/kchabin/swu-ai-secu/blob/main/%EB%A8%B8%EC%8B%A0%EB%9F%AC%EB%8B%9D.ipynb\" target=\"_parent\"><img src=\"https://colab.research.google.com/assets/colab-badge.svg\" alt=\"Open In Colab\"/></a>"
      ]
    },
    {
      "cell_type": "code",
      "source": [
        "!pip install Pillow\n",
        "!pip install numpy\n",
        "!pip install tensorflow\n",
        "!pip install keras\n",
        "!pip install pandas"
      ],
      "metadata": {
        "colab": {
          "base_uri": "https://localhost:8080/"
        },
        "collapsed": true,
        "id": "fUxi0oegD9Ck",
        "outputId": "a1aa81a6-d65e-4a12-8c01-5f4eab8c02c8"
      },
      "execution_count": null,
      "outputs": [
        {
          "output_type": "stream",
          "name": "stdout",
          "text": [
            "Requirement already satisfied: Pillow in /usr/local/lib/python3.10/dist-packages (11.0.0)\n",
            "Requirement already satisfied: numpy in /usr/local/lib/python3.10/dist-packages (1.26.4)\n",
            "Requirement already satisfied: tensorflow in /usr/local/lib/python3.10/dist-packages (2.17.1)\n",
            "Requirement already satisfied: absl-py>=1.0.0 in /usr/local/lib/python3.10/dist-packages (from tensorflow) (1.4.0)\n",
            "Requirement already satisfied: astunparse>=1.6.0 in /usr/local/lib/python3.10/dist-packages (from tensorflow) (1.6.3)\n",
            "Requirement already satisfied: flatbuffers>=24.3.25 in /usr/local/lib/python3.10/dist-packages (from tensorflow) (24.3.25)\n",
            "Requirement already satisfied: gast!=0.5.0,!=0.5.1,!=0.5.2,>=0.2.1 in /usr/local/lib/python3.10/dist-packages (from tensorflow) (0.6.0)\n",
            "Requirement already satisfied: google-pasta>=0.1.1 in /usr/local/lib/python3.10/dist-packages (from tensorflow) (0.2.0)\n",
            "Requirement already satisfied: h5py>=3.10.0 in /usr/local/lib/python3.10/dist-packages (from tensorflow) (3.12.1)\n",
            "Requirement already satisfied: libclang>=13.0.0 in /usr/local/lib/python3.10/dist-packages (from tensorflow) (18.1.1)\n",
            "Requirement already satisfied: ml-dtypes<0.5.0,>=0.3.1 in /usr/local/lib/python3.10/dist-packages (from tensorflow) (0.4.1)\n",
            "Requirement already satisfied: opt-einsum>=2.3.2 in /usr/local/lib/python3.10/dist-packages (from tensorflow) (3.4.0)\n",
            "Requirement already satisfied: packaging in /usr/local/lib/python3.10/dist-packages (from tensorflow) (24.2)\n",
            "Requirement already satisfied: protobuf!=4.21.0,!=4.21.1,!=4.21.2,!=4.21.3,!=4.21.4,!=4.21.5,<5.0.0dev,>=3.20.3 in /usr/local/lib/python3.10/dist-packages (from tensorflow) (4.25.5)\n",
            "Requirement already satisfied: requests<3,>=2.21.0 in /usr/local/lib/python3.10/dist-packages (from tensorflow) (2.32.3)\n",
            "Requirement already satisfied: setuptools in /usr/local/lib/python3.10/dist-packages (from tensorflow) (75.1.0)\n",
            "Requirement already satisfied: six>=1.12.0 in /usr/local/lib/python3.10/dist-packages (from tensorflow) (1.16.0)\n",
            "Requirement already satisfied: termcolor>=1.1.0 in /usr/local/lib/python3.10/dist-packages (from tensorflow) (2.5.0)\n",
            "Requirement already satisfied: typing-extensions>=3.6.6 in /usr/local/lib/python3.10/dist-packages (from tensorflow) (4.12.2)\n",
            "Requirement already satisfied: wrapt>=1.11.0 in /usr/local/lib/python3.10/dist-packages (from tensorflow) (1.17.0)\n",
            "Requirement already satisfied: grpcio<2.0,>=1.24.3 in /usr/local/lib/python3.10/dist-packages (from tensorflow) (1.68.1)\n",
            "Requirement already satisfied: tensorboard<2.18,>=2.17 in /usr/local/lib/python3.10/dist-packages (from tensorflow) (2.17.1)\n",
            "Requirement already satisfied: keras>=3.2.0 in /usr/local/lib/python3.10/dist-packages (from tensorflow) (3.5.0)\n",
            "Requirement already satisfied: tensorflow-io-gcs-filesystem>=0.23.1 in /usr/local/lib/python3.10/dist-packages (from tensorflow) (0.37.1)\n",
            "Requirement already satisfied: numpy<2.0.0,>=1.23.5 in /usr/local/lib/python3.10/dist-packages (from tensorflow) (1.26.4)\n",
            "Requirement already satisfied: wheel<1.0,>=0.23.0 in /usr/local/lib/python3.10/dist-packages (from astunparse>=1.6.0->tensorflow) (0.45.1)\n",
            "Requirement already satisfied: rich in /usr/local/lib/python3.10/dist-packages (from keras>=3.2.0->tensorflow) (13.9.4)\n",
            "Requirement already satisfied: namex in /usr/local/lib/python3.10/dist-packages (from keras>=3.2.0->tensorflow) (0.0.8)\n",
            "Requirement already satisfied: optree in /usr/local/lib/python3.10/dist-packages (from keras>=3.2.0->tensorflow) (0.13.1)\n",
            "Requirement already satisfied: charset-normalizer<4,>=2 in /usr/local/lib/python3.10/dist-packages (from requests<3,>=2.21.0->tensorflow) (3.4.0)\n",
            "Requirement already satisfied: idna<4,>=2.5 in /usr/local/lib/python3.10/dist-packages (from requests<3,>=2.21.0->tensorflow) (3.10)\n",
            "Requirement already satisfied: urllib3<3,>=1.21.1 in /usr/local/lib/python3.10/dist-packages (from requests<3,>=2.21.0->tensorflow) (2.2.3)\n",
            "Requirement already satisfied: certifi>=2017.4.17 in /usr/local/lib/python3.10/dist-packages (from requests<3,>=2.21.0->tensorflow) (2024.8.30)\n",
            "Requirement already satisfied: markdown>=2.6.8 in /usr/local/lib/python3.10/dist-packages (from tensorboard<2.18,>=2.17->tensorflow) (3.7)\n",
            "Requirement already satisfied: tensorboard-data-server<0.8.0,>=0.7.0 in /usr/local/lib/python3.10/dist-packages (from tensorboard<2.18,>=2.17->tensorflow) (0.7.2)\n",
            "Requirement already satisfied: werkzeug>=1.0.1 in /usr/local/lib/python3.10/dist-packages (from tensorboard<2.18,>=2.17->tensorflow) (3.1.3)\n",
            "Requirement already satisfied: MarkupSafe>=2.1.1 in /usr/local/lib/python3.10/dist-packages (from werkzeug>=1.0.1->tensorboard<2.18,>=2.17->tensorflow) (3.0.2)\n",
            "Requirement already satisfied: markdown-it-py>=2.2.0 in /usr/local/lib/python3.10/dist-packages (from rich->keras>=3.2.0->tensorflow) (3.0.0)\n",
            "Requirement already satisfied: pygments<3.0.0,>=2.13.0 in /usr/local/lib/python3.10/dist-packages (from rich->keras>=3.2.0->tensorflow) (2.18.0)\n",
            "Requirement already satisfied: mdurl~=0.1 in /usr/local/lib/python3.10/dist-packages (from markdown-it-py>=2.2.0->rich->keras>=3.2.0->tensorflow) (0.1.2)\n",
            "Requirement already satisfied: keras in /usr/local/lib/python3.10/dist-packages (3.5.0)\n",
            "Requirement already satisfied: absl-py in /usr/local/lib/python3.10/dist-packages (from keras) (1.4.0)\n",
            "Requirement already satisfied: numpy in /usr/local/lib/python3.10/dist-packages (from keras) (1.26.4)\n",
            "Requirement already satisfied: rich in /usr/local/lib/python3.10/dist-packages (from keras) (13.9.4)\n",
            "Requirement already satisfied: namex in /usr/local/lib/python3.10/dist-packages (from keras) (0.0.8)\n",
            "Requirement already satisfied: h5py in /usr/local/lib/python3.10/dist-packages (from keras) (3.12.1)\n",
            "Requirement already satisfied: optree in /usr/local/lib/python3.10/dist-packages (from keras) (0.13.1)\n",
            "Requirement already satisfied: ml-dtypes in /usr/local/lib/python3.10/dist-packages (from keras) (0.4.1)\n",
            "Requirement already satisfied: packaging in /usr/local/lib/python3.10/dist-packages (from keras) (24.2)\n",
            "Requirement already satisfied: typing-extensions>=4.5.0 in /usr/local/lib/python3.10/dist-packages (from optree->keras) (4.12.2)\n",
            "Requirement already satisfied: markdown-it-py>=2.2.0 in /usr/local/lib/python3.10/dist-packages (from rich->keras) (3.0.0)\n",
            "Requirement already satisfied: pygments<3.0.0,>=2.13.0 in /usr/local/lib/python3.10/dist-packages (from rich->keras) (2.18.0)\n",
            "Requirement already satisfied: mdurl~=0.1 in /usr/local/lib/python3.10/dist-packages (from markdown-it-py>=2.2.0->rich->keras) (0.1.2)\n",
            "Requirement already satisfied: pandas in /usr/local/lib/python3.10/dist-packages (2.2.2)\n",
            "Requirement already satisfied: numpy>=1.22.4 in /usr/local/lib/python3.10/dist-packages (from pandas) (1.26.4)\n",
            "Requirement already satisfied: python-dateutil>=2.8.2 in /usr/local/lib/python3.10/dist-packages (from pandas) (2.8.2)\n",
            "Requirement already satisfied: pytz>=2020.1 in /usr/local/lib/python3.10/dist-packages (from pandas) (2024.2)\n",
            "Requirement already satisfied: tzdata>=2022.7 in /usr/local/lib/python3.10/dist-packages (from pandas) (2024.2)\n",
            "Requirement already satisfied: six>=1.5 in /usr/local/lib/python3.10/dist-packages (from python-dateutil>=2.8.2->pandas) (1.16.0)\n"
          ]
        }
      ]
    },
    {
      "cell_type": "code",
      "source": [
        "from PIL import Image\n",
        "import numpy as np\n",
        "import pandas as pd\n",
        "from google.colab import drive\n",
        "import os\n",
        "\n",
        "# Google Drive 마운트\n",
        "drive.mount('/content/drive')\n",
        "\n",
        "# 프로젝트 디렉토리 경로 설정 train 이미지, test 이미지\n",
        "\n",
        "test_image = '/content/drive/MyDrive/AI_SWU_PROJECT/processed_images/test/default_class'\n",
        "\n",
        "train_labels = pd.read_csv('/content/drive/MyDrive/AI_SWU_PROJECT/trainLabels.csv')\n",
        "\n",
        "\n",
        "\n",
        "print(\"완료\")\n"
      ],
      "metadata": {
        "colab": {
          "base_uri": "https://localhost:8080/"
        },
        "id": "NBBkktkpJy3P",
        "outputId": "bb0e8ba2-2f21-4d3f-bc7a-f1ccf84713dd"
      },
      "execution_count": null,
      "outputs": [
        {
          "output_type": "stream",
          "name": "stdout",
          "text": [
            "Drive already mounted at /content/drive; to attempt to forcibly remount, call drive.mount(\"/content/drive\", force_remount=True).\n",
            "완료\n"
          ]
        }
      ]
    },
    {
      "cell_type": "code",
      "source": [
        "train_image = '/content/drive/MyDrive/AI_SWU_PROJECT/trainN/image'\n",
        "\n",
        "train_images = np.load('/content/drive/MyDrive/AI_SWU_PROJECT/trainN/train_images_n.npy')\n",
        "#test_images = np.load('/content/drive/MyDrive/AI_SWU_PROJECT/trainN/test_images.npy')"
      ],
      "metadata": {
        "id": "Ha_zhLmxoLpu"
      },
      "execution_count": null,
      "outputs": []
    },
    {
      "cell_type": "markdown",
      "source": [
        "# 데이터셋 소개"
      ],
      "metadata": {
        "id": "xiKP0C2MG8fO"
      }
    },
    {
      "cell_type": "code",
      "source": [
        "import pandas as pd\n",
        "import matplotlib.pyplot as plt\n",
        "\n",
        "\n",
        "# 클래스별 샘플 개수 세기\n",
        "class_counts = train_labels['Class'].value_counts().sort_index()\n",
        "\n",
        "# 악성코드 패밀리 이름 정의\n",
        "class_names = {\n",
        "    1: 'Ramnit',\n",
        "    2: 'Lollipop',\n",
        "    3: 'Kelihos_ver3',\n",
        "    4: 'Vundo',\n",
        "    5: 'Simda',\n",
        "    6: 'Tracur',\n",
        "    7: 'Kelihos_ver1',\n",
        "    8: 'Obfuscator.ACY',\n",
        "    9: 'Gatak'\n",
        "}\n",
        "\n",
        "# 클래스 레이블을 악성코드 패밀리 이름으로 변환\n",
        "class_counts.index = class_counts.index.map(class_names)\n",
        "\n",
        "# 시각화\n",
        "plt.figure(figsize=(10, 6))\n",
        "class_counts.plot(kind='bar', color='skyblue')\n",
        "plt.title('Malware Family Distribution in Train Dataset')\n",
        "plt.xlabel('Malware Family')\n",
        "plt.ylabel('Number of Samples')\n",
        "plt.xticks(rotation=45)\n",
        "plt.tight_layout()\n",
        "plt.show()\n"
      ],
      "metadata": {
        "colab": {
          "base_uri": "https://localhost:8080/",
          "height": 399
        },
        "id": "p9YWZ9ADHBNG",
        "outputId": "caf00ec1-9c7a-4d9a-a374-ef4383665f2d"
      },
      "execution_count": null,
      "outputs": [
        {
          "output_type": "display_data",
          "data": {
            "text/plain": [
              "<Figure size 1000x600 with 1 Axes>"
            ],
            "image/png": "[encoded data removed]"
          },
          "metadata": {}
        }
      ]
    },
    {
      "cell_type": "markdown",
      "source": [
        "# 모델 정의\n",
        "\n",
        "- 목표 : train과 train 데이터에 대한 label을 학습한 모델로 test 데이터의 label을 예측하는 악성코드 패밀리 분류 모델을 만든다.\n",
        "\n",
        "64*64 사이즈의 그레이스케일 이미지를 활용.\n",
        "- train_images : 10868개\n",
        "- test_images : 10873개\n",
        "- train_labels : train 데이터에 대한 label. 각 train 이미지가 어떤 악성코드 패밀리에 속하는지 표현됨.\n",
        "\n"
      ],
      "metadata": {
        "id": "JwJF3juZXzHd"
      }
    },
    {
      "cell_type": "markdown",
      "source": [
        "# 모델 훈련 및 평가\n",
        "\n",
        "- Random Forest\n",
        "- Gradient Boosting\n",
        "- XGBoost\n",
        "- LightGBM\n",
        "\n",
        "4가지 모델을 학습 및 훈련, 평가 결과 비교\n",
        "최종적으로 label이 없는 test_image 데이터에 대해서 예측한 결과를 서로 비교하고 최적의 이미지 기반 악성코드 패밀리 분류 머신러닝 모델을 탐색하고자 함."
      ],
      "metadata": {
        "id": "olNiZdGTXTNt"
      }
    },
    {
      "cell_type": "markdown",
      "source": [
        "결과 지표 해석\n",
        "- `precision` : 정밀도. 악성코드로 예측된 파일 중 실제로 악성코드인 비율.\n",
        "- `Recall` : 재현율. 실제 악성코드 중 모델이 탐지한 비율.\n",
        "- `F1-score` :  Precision과 Recall 사이의 균형을 평가.\n",
        "특정 클래스에서 Precision과 Recall 중 하나가 극단적으로 낮을 때 보완 지표로 사용.\n",
        "- `Support` : 각 데이터 샘플 개수\n",
        "- `Accuracy` : 모델 정확도. 클래스 불균형이 심하면 신뢰하기 어려울 수 있음.\n",
        "- `Macro Avg` : 각 클래스의 Precision, Recall, F1-Score를 개별적으로 계산한 뒤, 평균을 냄, 클래스 불균형에 민감하며, 모든 클래스를 동등하게 취급.\n",
        "- `Weighted Avg` : 클래스 불균형을 완화해, Precision, Recall, F1-Score를 클래스별 데이터 샘플 개수로 가중평균"
      ],
      "metadata": {
        "id": "xqcJI5g2sars"
      }
    },
    {
      "cell_type": "markdown",
      "source": [
        "## 랜덤포레스트 모델"
      ],
      "metadata": {
        "id": "HF4uYugeDy0_"
      }
    },
    {
      "cell_type": "code",
      "source": [
        "from sklearn.model_selection import train_test_split, cross_validate\n",
        "from sklearn.metrics import accuracy_score, classification_report\n",
        "from sklearn.ensemble import RandomForestClassifier\n",
        "import time\n",
        "\n",
        "# 훈련 데이터 분할\n",
        "X_train, X_val, y_train, y_val = train_test_split(train_images, train_labels['Class'], test_size=0.2, random_state=42)\n",
        "\n",
        "start_time = time.time()\n",
        "\n",
        "# 랜덤포레스트 모델 훈련\n",
        "print(\"모델 훈련 중\")\n",
        "rf = RandomForestClassifier(n_jobs=-1, random_state=42, class_weight='balanced')\n",
        "scores = cross_validate(rf, X_train, y_train, cv=5, return_train_score=True, n_jobs=-1)\n",
        "\n",
        "\n",
        "print(\"Train Score:\", np.mean(scores['train_score']))\n",
        "print(\"Validation Score:\", np.mean(scores['test_score']))\n",
        "\n",
        "rf.fit(X_train, y_train)\n",
        "\n",
        "# 검증 데이터에 대한 예측\n",
        "y_val_pred = rf.predict(X_val)\n",
        "\n",
        "# 성능 평가\n",
        "accuracy = accuracy_score(y_val, y_val_pred)\n",
        "print(f\"Accuracy on validation set: {accuracy:.4f}\")\n",
        "print(classification_report(y_val, y_val_pred))\n",
        "\n",
        "end_time = time.time()\n",
        "# 전체 훈련 및 예측에 걸린 시간\n",
        "elapsed_time = end_time - start_time\n",
        "print(f\"총 걸린 시간: {elapsed_time:.4f} 초\")\n"
      ],
      "metadata": {
        "colab": {
          "base_uri": "https://localhost:8080/"
        },
        "outputId": "09cb98cd-c44c-49ec-f665-babf03159e48",
        "id": "bfr5-3kFI_6S"
      },
      "execution_count": null,
      "outputs": [
        {
          "output_type": "stream",
          "name": "stdout",
          "text": [
            "모델 훈련 중\n",
            "Train Score: 1.0\n",
            "Validation Score: 0.9615834795204578\n",
            "Accuracy on validation set: 0.9660\n",
            "              precision    recall  f1-score   support\n",
            "\n",
            "           1       0.91      0.98      0.94       314\n",
            "           2       0.98      0.97      0.97       486\n",
            "           3       1.00      1.00      1.00       594\n",
            "           4       0.93      0.97      0.95        87\n",
            "           5       0.83      0.71      0.77         7\n",
            "           6       0.93      0.88      0.90       135\n",
            "           7       1.00      0.99      0.99        87\n",
            "           8       0.99      0.90      0.94       249\n",
            "           9       0.95      0.99      0.97       215\n",
            "\n",
            "    accuracy                           0.97      2174\n",
            "   macro avg       0.95      0.93      0.94      2174\n",
            "weighted avg       0.97      0.97      0.97      2174\n",
            "\n",
            "총 걸린 시간: 31.2199 초\n"
          ]
        }
      ]
    },
    {
      "cell_type": "code",
      "source": [
        "from sklearn.decomposition import PCA\n",
        "from sklearn.preprocessing import StandardScaler\n",
        "from sklearn.model_selection import train_test_split, cross_validate\n",
        "from sklearn.metrics import accuracy_score, classification_report\n",
        "from sklearn.ensemble import RandomForestClassifier\n",
        "import time\n",
        "\n",
        "# 데이터 스케일링\n",
        "#scaler = StandardScaler()\n",
        "#train_images_scaled = scaler.fit_transform(train_images)\n",
        "\n",
        "# PCA로 차원 축소\n",
        "pca = PCA(n_components=50)\n",
        "train_pca = pca.fit_transform(train_images)  # 훈련 데이터에 대해 PCA 적용\n",
        "\n",
        "\n",
        "# 훈련 데이터 분할\n",
        "X_train, X_val, y_train, y_val = train_test_split(train_pca, train_labels['Class'], test_size=0.2, random_state=42)\n",
        "\n",
        "start_time = time.time()\n",
        "\n",
        "# 랜덤포레스트 모델 훈련\n",
        "print(\"모델 훈련 중\")\n",
        "rf = RandomForestClassifier(n_jobs=-1, random_state=42, class_weight='balanced')\n",
        "scores = cross_validate(rf, X_train, y_train, cv=5, return_train_score=True, n_jobs=-1)\n",
        "\n",
        "\n",
        "print(\"Train Score:\", np.mean(scores['train_score']))\n",
        "print(\"Validation Score:\", np.mean(scores['test_score']))\n",
        "\n",
        "rf.fit(X_train, y_train)\n",
        "\n",
        "# 검증 데이터에 대한 예측\n",
        "y_val_pred = rf.predict(X_val)\n",
        "\n",
        "# 성능 평가\n",
        "accuracy = accuracy_score(y_val, y_val_pred)\n",
        "print(f\"Accuracy on validation set: {accuracy:.4f}\")\n",
        "print(classification_report(y_val, y_val_pred))\n",
        "\n",
        "end_time = time.time()\n",
        "# 전체 훈련 및 예측에 걸린 시간\n",
        "elapsed_time = end_time - start_time\n",
        "print(f\"총 걸린 시간: {elapsed_time:.4f} 초\")\n"
      ],
      "metadata": {
        "colab": {
          "base_uri": "https://localhost:8080/"
        },
        "outputId": "6cc4c147-7767-4666-f204-b9bca450ca80",
        "id": "qrPtm0WGHSew"
      },
      "execution_count": null,
      "outputs": [
        {
          "output_type": "stream",
          "name": "stdout",
          "text": [
            "모델 훈련 중\n",
            "Train Score: 1.0\n",
            "Validation Score: 0.9535314199197851\n",
            "Accuracy on validation set: 0.9623\n",
            "              precision    recall  f1-score   support\n",
            "\n",
            "           1       0.87      0.98      0.92       314\n",
            "           2       0.99      0.97      0.98       486\n",
            "           3       1.00      1.00      1.00       594\n",
            "           4       0.93      0.93      0.93        87\n",
            "           5       0.00      0.00      0.00         7\n",
            "           6       0.96      0.89      0.92       135\n",
            "           7       0.99      0.98      0.98        87\n",
            "           8       0.96      0.89      0.92       249\n",
            "           9       0.98      0.98      0.98       215\n",
            "\n",
            "    accuracy                           0.96      2174\n",
            "   macro avg       0.85      0.85      0.85      2174\n",
            "weighted avg       0.96      0.96      0.96      2174\n",
            "\n",
            "총 걸린 시간: 5.0620 초\n"
          ]
        }
      ]
    },
    {
      "cell_type": "code",
      "source": [
        "from sklearn.decomposition import PCA\n",
        "from sklearn.preprocessing import StandardScaler\n",
        "from sklearn.model_selection import train_test_split, cross_validate\n",
        "from sklearn.metrics import accuracy_score, classification_report\n",
        "from sklearn.ensemble import RandomForestClassifier\n",
        "import time\n",
        "\n",
        "# 데이터 스케일링\n",
        "scaler = StandardScaler()\n",
        "train_images_scaled = scaler.fit_transform(train_images)\n",
        "\n",
        "# PCA로 차원 축소\n",
        "pca = PCA(n_components=50)\n",
        "train_pca = pca.fit_transform(train_images_scaled)  # 훈련 데이터에 대해 PCA 적용\n",
        "\n",
        "\n",
        "# 훈련 데이터 분할\n",
        "X_train, X_val, y_train, y_val = train_test_split(train_pca, train_labels['Class'], test_size=0.2, random_state=42)\n",
        "\n",
        "start_time = time.time()\n",
        "\n",
        "# 랜덤포레스트 모델 훈련\n",
        "print(\"모델 훈련 중\")\n",
        "rf = RandomForestClassifier(n_jobs=-1, random_state=42, class_weight='balanced')\n",
        "scores = cross_validate(rf, X_train, y_train, cv=5, return_train_score=True, n_jobs=-1)\n",
        "\n",
        "\n",
        "print(\"Train Score:\", np.mean(scores['train_score']))\n",
        "print(\"Validation Score:\", np.mean(scores['test_score']))\n",
        "\n",
        "rf.fit(X_train, y_train)\n",
        "\n",
        "# 검증 데이터에 대한 예측\n",
        "y_val_pred = rf.predict(X_val)\n",
        "\n",
        "# 성능 평가\n",
        "accuracy = accuracy_score(y_val, y_val_pred)\n",
        "print(f\"Accuracy on validation set: {accuracy:.4f}\")\n",
        "print(classification_report(y_val, y_val_pred))\n",
        "\n",
        "end_time = time.time()\n",
        "# 전체 훈련 및 예측에 걸린 시간\n",
        "elapsed_time = end_time - start_time\n",
        "print(f\"총 걸린 시간: {elapsed_time:.4f} 초\")\n"
      ],
      "metadata": {
        "colab": {
          "base_uri": "https://localhost:8080/"
        },
        "outputId": "2a59e6ce-bbd0-4dd0-c6b5-73db60d87968",
        "id": "iKP3eMmnUcLC"
      },
      "execution_count": null,
      "outputs": [
        {
          "output_type": "stream",
          "name": "stdout",
          "text": [
            "모델 훈련 중\n",
            "Train Score: 1.0\n",
            "Validation Score: 0.9556022369111515\n",
            "Accuracy on validation set: 0.9660\n",
            "              precision    recall  f1-score   support\n",
            "\n",
            "           1       0.88      0.99      0.93       314\n",
            "           2       0.99      0.97      0.98       486\n",
            "           3       0.99      1.00      0.99       594\n",
            "           4       0.98      0.93      0.95        87\n",
            "           5       0.00      0.00      0.00         7\n",
            "           6       0.97      0.92      0.94       135\n",
            "           7       0.99      0.98      0.98        87\n",
            "           8       0.97      0.90      0.93       249\n",
            "           9       0.98      0.98      0.98       215\n",
            "\n",
            "    accuracy                           0.97      2174\n",
            "   macro avg       0.86      0.85      0.85      2174\n",
            "weighted avg       0.96      0.97      0.96      2174\n",
            "\n",
            "총 걸린 시간: 5.1514 초\n"
          ]
        },
        {
          "output_type": "stream",
          "name": "stderr",
          "text": [
            "/usr/local/lib/python3.10/dist-packages/sklearn/metrics/_classification.py:1531: UndefinedMetricWarning: Precision is ill-defined and being set to 0.0 in labels with no predicted samples. Use `zero_division` parameter to control this behavior.\n",
            "  _warn_prf(average, modifier, f\"{metric.capitalize()} is\", len(result))\n",
            "/usr/local/lib/python3.10/dist-packages/sklearn/metrics/_classification.py:1531: UndefinedMetricWarning: Precision is ill-defined and being set to 0.0 in labels with no predicted samples. Use `zero_division` parameter to control this behavior.\n",
            "  _warn_prf(average, modifier, f\"{metric.capitalize()} is\", len(result))\n",
            "/usr/local/lib/python3.10/dist-packages/sklearn/metrics/_classification.py:1531: UndefinedMetricWarning: Precision is ill-defined and being set to 0.0 in labels with no predicted samples. Use `zero_division` parameter to control this behavior.\n",
            "  _warn_prf(average, modifier, f\"{metric.capitalize()} is\", len(result))\n"
          ]
        }
      ]
    },
    {
      "cell_type": "markdown",
      "source": [
        "1. **PCA와 스케일링을 모두 적용하지 않은 경우** : 모델 성능이 3가지 중 가장 높고, 데이터수가 가장 적은 클래스 5에 대한 지표가 0이 나오지 않음. 대신 모델 훈련 및 예측, 성능 평가까지 걸린 시간이 약 4분으로 가장 길었음.\n",
        "\n",
        "\n",
        "2. PCA만 적용한 경우 : 클래스 5에 대한 지표가 0이 나옴. 모델 훈련 및 예측, 성능 평가까지 걸린 시간이 33초정도로 빠른 속도를 보임.\n",
        "\n",
        "3. PCA, 스케일링 모두 적용 : 클래스 5에 대한 지표가 0, 모델 훈련 및 예측, 성능 평가까지 걸린 시간이 39초 정도로 빠른 속도.\n",
        "\n",
        "결론 : PCA, 스케일링을 적용하면 속도는 빠르지만 모델의 정확도가 낮아짐.\n",
        "- PCA는 중요한 특성을 잃을 수 있어, 클래스 5 같은 케이스에서 성능 저하가 발생할 수 있음.\n",
        "- PCA와 스케일링을 동시 적용하면, 중요한 특성을 잃고, 데이터 분포 왜곡 또한 발생할 수 있음 -> 성능 저하 발생\n",
        "\n",
        "클래스 불균형으로 인한 성능 저하를 n_components 값을 증가시키거나, Grid Search, Random Search, SMOTE 등의 방법으로 해결해보고자 함."
      ],
      "metadata": {
        "id": "7LWQuG-0U_Bc"
      }
    },
    {
      "cell_type": "markdown",
      "source": [
        "## 성능 향상\n"
      ],
      "metadata": {
        "id": "RECY_g-MCB15"
      }
    },
    {
      "cell_type": "markdown",
      "source": [
        "### GridSearch(랜덤포레스트)"
      ],
      "metadata": {
        "id": "fLBTs0tzCDu5"
      }
    },
    {
      "cell_type": "code",
      "source": [
        "from sklearn.model_selection import GridSearchCV\n",
        "from sklearn.ensemble import RandomForestClassifier\n",
        "from sklearn.model_selection import train_test_split\n",
        "from sklearn.metrics import accuracy_score, classification_report\n",
        "from sklearn.decomposition import PCA\n",
        "\n",
        "\n",
        "# PCA로 차원 축소\n",
        "pca = PCA(n_components=50)\n",
        "train_pca = pca.fit_transform(train_images)  # 훈련 데이터에 대해 PCA 적용\n",
        "\n",
        "# 훈련 데이터 분할\n",
        "X_train, X_val, y_train, y_val = train_test_split(\n",
        "    train_pca, train_labels['Class'], test_size=0.2, random_state=42)\n",
        "\n",
        "param_grid = {\n",
        "    'n_estimators': [100, 200],\n",
        "    'max_depth': [10, 20, None],\n",
        "    'min_samples_split': [2, 5],\n",
        "    'min_samples_leaf': [1, 2]\n",
        "}\n",
        "\n",
        "grid_search = GridSearchCV(RandomForestClassifier(n_jobs=-1, random_state=42),\n",
        "                           param_grid, cv=5, n_jobs=-1, scoring='accuracy')\n",
        "grid_search.fit(X_train, y_train)\n",
        "print(\"Best parameters:\", grid_search.best_params_)\n"
      ],
      "metadata": {
        "colab": {
          "base_uri": "https://localhost:8080/"
        },
        "id": "5Dg6xK0q81up",
        "outputId": "30ed24e6-70a5-4615-e311-6e5b62da18d1"
      },
      "execution_count": null,
      "outputs": [
        {
          "output_type": "stream",
          "name": "stdout",
          "text": [
            "Best parameters: {'max_depth': None, 'min_samples_leaf': 1, 'min_samples_split': 2, 'n_estimators': 200}\n"
          ]
        }
      ]
    },
    {
      "cell_type": "code",
      "source": [
        "#그리드서치 결과 기반 최적 모델 훈련\n",
        "rf_best = grid_search.best_estimator_\n",
        "\n",
        "# 검증 데이터에 대한 예측\n",
        "y_val_pred = rf_best.predict(X_val)\n",
        "\n",
        "# 성능 평가\n",
        "accuracy = accuracy_score(y_val, y_val_pred)\n",
        "print(f\"검증 데이터에 대한 정확도: {accuracy:.4f}\")\n",
        "print(classification_report(y_val, y_val_pred))\n"
      ],
      "metadata": {
        "colab": {
          "base_uri": "https://localhost:8080/"
        },
        "outputId": "25d0524a-4cd2-4894-cd6e-832551a90afc",
        "id": "qLYF43y430EE"
      },
      "execution_count": null,
      "outputs": [
        {
          "output_type": "stream",
          "name": "stdout",
          "text": [
            "검증 데이터에 대한 정확도: 0.9669\n",
            "              precision    recall  f1-score   support\n",
            "\n",
            "           1       0.88      0.99      0.93       314\n",
            "           2       0.99      0.97      0.98       486\n",
            "           3       1.00      1.00      1.00       594\n",
            "           4       0.93      0.94      0.94        87\n",
            "           5       0.50      0.14      0.22         7\n",
            "           6       0.96      0.91      0.94       135\n",
            "           7       0.99      0.99      0.99        87\n",
            "           8       0.96      0.90      0.93       249\n",
            "           9       0.98      0.99      0.98       215\n",
            "\n",
            "    accuracy                           0.97      2174\n",
            "   macro avg       0.91      0.87      0.88      2174\n",
            "weighted avg       0.97      0.97      0.97      2174\n",
            "\n"
          ]
        }
      ]
    },
    {
      "cell_type": "markdown",
      "source": [
        "### Random Search(랜덤포레스트)"
      ],
      "metadata": {
        "id": "vPoYHm_dCHFs"
      }
    },
    {
      "cell_type": "code",
      "source": [
        "from sklearn.model_selection import RandomizedSearchCV\n",
        "from sklearn.ensemble import RandomForestClassifier\n",
        "import numpy as np\n",
        "\n",
        "# PCA로 차원 축소\n",
        "pca = PCA(n_components=50)\n",
        "train_pca = pca.fit_transform(train_images)  # 훈련 데이터에 대해 PCA 적용\n",
        "\n",
        "# 훈련 데이터 분할\n",
        "X_train, X_val, y_train, y_val = train_test_split(train_pca, train_labels['Class'], test_size=0.2, random_state=42)\n",
        "\n",
        "# 하이퍼파라미터 공간 정의\n",
        "param_dist = {\n",
        "    'n_estimators': [50, 100, 200],\n",
        "    'max_depth': [6, 8, 10],\n",
        "    'min_samples_split': [2, 5, 8],\n",
        "    'min_samples_leaf': [1, 2, 4],\n",
        "    'max_features': ['sqrt', 'log2', None],\n",
        "    'bootstrap': [True, False]\n",
        "}\n",
        "\n",
        "# RandomizedSearchCV로 하이퍼파라미터 튜닝\n",
        "rf = RandomForestClassifier(random_state=42)\n",
        "random_search = RandomizedSearchCV(rf, param_distributions=param_dist, n_iter=50, cv=5, n_jobs=-1, random_state=42)\n",
        "\n",
        "# 모델 훈련\n",
        "random_search.fit(X_train, y_train)\n",
        "\n",
        "# 최적 하이퍼파라미터 출력\n",
        "print(\"Best parameters: \", random_search.best_params_)\n",
        "\n",
        "# 최적 모델로 예측\n",
        "best_rf = random_search.best_estimator_\n",
        "y_val_pred = best_rf.predict(X_val)\n",
        "\n",
        "# 성능 평가\n",
        "accuracy = accuracy_score(y_val, y_val_pred)\n",
        "print(f\"검증 데이터에 대한 정확도: {accuracy:.4f}\")\n",
        "print(classification_report(y_val, y_val_pred))\n"
      ],
      "metadata": {
        "colab": {
          "base_uri": "https://localhost:8080/"
        },
        "id": "Vx80yBJsCp-u",
        "outputId": "58930956-b301-44f4-90e3-8e6295f1c08b"
      },
      "execution_count": null,
      "outputs": [
        {
          "output_type": "stream",
          "name": "stdout",
          "text": [
            "Best parameters:  {'n_estimators': 200, 'min_samples_split': 8, 'min_samples_leaf': 4, 'max_features': 'sqrt', 'max_depth': 10, 'bootstrap': False}\n",
            "검증 데이터에 대한 정확도: 0.9522\n",
            "              precision    recall  f1-score   support\n",
            "\n",
            "           1       0.83      0.99      0.90       314\n",
            "           2       0.99      0.96      0.97       486\n",
            "           3       1.00      1.00      1.00       594\n",
            "           4       0.94      0.93      0.94        87\n",
            "           5       0.00      0.00      0.00         7\n",
            "           6       0.93      0.85      0.89       135\n",
            "           7       1.00      0.95      0.98        87\n",
            "           8       0.96      0.87      0.91       249\n",
            "           9       0.94      0.97      0.95       215\n",
            "\n",
            "    accuracy                           0.95      2174\n",
            "   macro avg       0.84      0.83      0.84      2174\n",
            "weighted avg       0.95      0.95      0.95      2174\n",
            "\n"
          ]
        },
        {
          "output_type": "stream",
          "name": "stderr",
          "text": [
            "/usr/local/lib/python3.10/dist-packages/sklearn/metrics/_classification.py:1531: UndefinedMetricWarning: Precision is ill-defined and being set to 0.0 in labels with no predicted samples. Use `zero_division` parameter to control this behavior.\n",
            "  _warn_prf(average, modifier, f\"{metric.capitalize()} is\", len(result))\n",
            "/usr/local/lib/python3.10/dist-packages/sklearn/metrics/_classification.py:1531: UndefinedMetricWarning: Precision is ill-defined and being set to 0.0 in labels with no predicted samples. Use `zero_division` parameter to control this behavior.\n",
            "  _warn_prf(average, modifier, f\"{metric.capitalize()} is\", len(result))\n",
            "/usr/local/lib/python3.10/dist-packages/sklearn/metrics/_classification.py:1531: UndefinedMetricWarning: Precision is ill-defined and being set to 0.0 in labels with no predicted samples. Use `zero_division` parameter to control this behavior.\n",
            "  _warn_prf(average, modifier, f\"{metric.capitalize()} is\", len(result))\n"
          ]
        }
      ]
    },
    {
      "cell_type": "markdown",
      "source": [
        "### SMOTE(오버샘플링)\n",
        "데이터의 개수가 적은 클래스의 표본을 가져온 뒤 임의의 값을 추가하여 새로운 샘플을 만들어 데이터에 추가하는 방식\n"
      ],
      "metadata": {
        "id": "ugXX7OvUGgFi"
      }
    },
    {
      "cell_type": "code",
      "source": [
        "from sklearn.model_selection import train_test_split\n",
        "from imblearn.over_sampling import SMOTE\n",
        "from sklearn.ensemble import RandomForestClassifier\n",
        "from sklearn.metrics import classification_report, accuracy_score\n",
        "import numpy as np\n",
        "\n",
        "# 데이터 분할\n",
        "X_train, X_val, y_train, y_val = train_test_split(train_images, train_labels['Class'], test_size=0.2, random_state=42)\n",
        "\n",
        "# SMOTE 적용\n",
        "print(\"Before SMOTE: \", X_train.shape, y_train.shape)\n",
        "\n",
        "\n",
        "smote = SMOTE(random_state=42)\n",
        "X_train_resampled, y_train_resampled = smote.fit_resample(X_train, y_train)\n",
        "\n",
        "print(\"After SMOTE: \", X_train_resampled.shape, y_train_resampled.shape)\n",
        "\n",
        "print('SMOTE 적용 후 label 값 분포: \\n', pd.Series(y_train_resampled).value_counts())\n",
        "\n",
        "# 랜덤포레스트 모델 훈련\n",
        "rf = RandomForestClassifier(random_state=42, class_weight='balanced')\n",
        "rf.fit(X_train_resampled, y_train_resampled)\n",
        "\n",
        "# 검증 데이터에 대한 예측\n",
        "y_val_pred = rf.predict(X_val)\n",
        "\n",
        "# 성능 평가\n",
        "accuracy = accuracy_score(y_val, y_val_pred)\n",
        "print(f\"Validation Accuracy: {accuracy:.4f}\")\n",
        "print(classification_report(y_val, y_val_pred))\n"
      ],
      "metadata": {
        "colab": {
          "base_uri": "https://localhost:8080/"
        },
        "id": "U_mQpQqVGf0E",
        "outputId": "47e28c3f-8f4b-449c-ef89-b441bb46b670"
      },
      "execution_count": null,
      "outputs": [
        {
          "output_type": "stream",
          "name": "stdout",
          "text": [
            "Before SMOTE:  (8694, 4096) (8694,)\n",
            "After SMOTE:  (21132, 4096) (21132,)\n",
            "SMOTE 적용 후 label 값 분포: \n",
            " Class\n",
            "3    2348\n",
            "2    2348\n",
            "1    2348\n",
            "9    2348\n",
            "6    2348\n",
            "8    2348\n",
            "7    2348\n",
            "4    2348\n",
            "5    2348\n",
            "Name: count, dtype: int64\n",
            "Validation Accuracy: 0.9706\n",
            "              precision    recall  f1-score   support\n",
            "\n",
            "           1       0.92      0.98      0.95       314\n",
            "           2       0.98      0.97      0.98       486\n",
            "           3       1.00      1.00      1.00       594\n",
            "           4       0.92      0.98      0.95        87\n",
            "           5       0.71      0.71      0.71         7\n",
            "           6       0.95      0.93      0.94       135\n",
            "           7       0.99      0.99      0.99        87\n",
            "           8       1.00      0.90      0.95       249\n",
            "           9       0.95      0.99      0.97       215\n",
            "\n",
            "    accuracy                           0.97      2174\n",
            "   macro avg       0.94      0.94      0.94      2174\n",
            "weighted avg       0.97      0.97      0.97      2174\n",
            "\n"
          ]
        }
      ]
    },
    {
      "cell_type": "markdown",
      "source": [
        "### ADASYN\n"
      ],
      "metadata": {
        "id": "Qv416QALOix-"
      }
    },
    {
      "cell_type": "code",
      "source": [
        "from imblearn.over_sampling import ADASYN\n",
        "from sklearn.model_selection import train_test_split\n",
        "from sklearn.ensemble import RandomForestClassifier\n",
        "from sklearn.metrics import classification_report, accuracy_score\n",
        "import numpy as np\n",
        "\n",
        "\n",
        "# 데이터 분할\n",
        "X_train, X_val, y_train, y_val = train_test_split(train_images, train_labels['Class'], test_size=0.2, random_state=42)\n",
        "# 데이터 증대\n",
        "adasyn = ADASYN(random_state=42)\n",
        "X_resampled, y_resampled = adasyn.fit_resample(X_train, y_train)\n",
        "\n",
        "# 랜덤포레스트 모델 훈련\n",
        "rf = RandomForestClassifier(random_state=42, class_weight='balanced')\n",
        "rf.fit(X_train_resampled, y_train_resampled)\n",
        "\n",
        "# 검증 데이터에 대한 예측\n",
        "y_val_pred = rf.predict(X_val)\n",
        "\n",
        "# 성능 평가\n",
        "accuracy = accuracy_score(y_val, y_val_pred)\n",
        "print(f\"Validation Accuracy: {accuracy:.4f}\")\n",
        "print(classification_report(y_val, y_val_pred))\n",
        "\n"
      ],
      "metadata": {
        "colab": {
          "base_uri": "https://localhost:8080/"
        },
        "id": "WvUnNZc7Oign",
        "outputId": "5b8cc126-c31e-4c79-8a95-77b75543b488"
      },
      "execution_count": null,
      "outputs": [
        {
          "output_type": "stream",
          "name": "stdout",
          "text": [
            "Validation Accuracy: 0.9706\n",
            "              precision    recall  f1-score   support\n",
            "\n",
            "           1       0.92      0.98      0.95       314\n",
            "           2       0.98      0.97      0.98       486\n",
            "           3       1.00      1.00      1.00       594\n",
            "           4       0.92      0.98      0.95        87\n",
            "           5       0.71      0.71      0.71         7\n",
            "           6       0.95      0.93      0.94       135\n",
            "           7       0.99      0.99      0.99        87\n",
            "           8       1.00      0.90      0.95       249\n",
            "           9       0.95      0.99      0.97       215\n",
            "\n",
            "    accuracy                           0.97      2174\n",
            "   macro avg       0.94      0.94      0.94      2174\n",
            "weighted avg       0.97      0.97      0.97      2174\n",
            "\n"
          ]
        }
      ]
    },
    {
      "cell_type": "markdown",
      "source": [
        "## GradientBoosting\n"
      ],
      "metadata": {
        "id": "G332y6xRB7a6"
      }
    },
    {
      "cell_type": "markdown",
      "source": [
        "이미지 데이터를 다시 로드하고, 그래디언트 부스팅 모델을 사용해서 분류한 결과\n",
        "- 클래스 5에 대한 지표들이 0으로 나타나는 문제를 해결하기 위해 사용함.\n",
        "- 지표가 상승하는 걸 확인함."
      ],
      "metadata": {
        "id": "RqDlJk3z8UcA"
      }
    },
    {
      "cell_type": "code",
      "source": [
        "from sklearn.ensemble import GradientBoostingClassifier\n",
        "from sklearn.model_selection import train_test_split\n",
        "from sklearn.metrics import accuracy_score, classification_report\n",
        "from sklearn.model_selection import cross_validate\n",
        "\n",
        "\n",
        "# PCA로 차원 축소\n",
        "pca = PCA(n_components=50)\n",
        "train_pca = pca.fit_transform(train_images)  # 훈련 데이터에 대해 PCA 적용\n",
        "\n",
        "# 데이터 분할 (train_pca와 train_labels는 이미 PCA 처리된 데이터와 레이블)\n",
        "X_train, X_val, y_train, y_val = train_test_split(train_pca, train_labels['Class'], test_size=0.2, random_state=42)\n",
        "\n",
        "# 모델 훈련\n",
        "gb = GradientBoostingClassifier(n_estimators=100, random_state=42)\n",
        "scores = cross_validate(gb, X_train, y_train, cv=5, return_train_score=True, n_jobs=-1)\n",
        "gb.fit(X_train, y_train)\n",
        "\n",
        "print(\"Train Score:\", np.mean(scores['train_score']))\n",
        "print(\"Validation Score:\", np.mean(scores['test_score']))\n",
        "\n",
        "# 검증 데이터에 대한 예측\n",
        "y_val_pred = gb.predict(X_val)\n",
        "\n",
        "# 성능 평가\n",
        "accuracy = accuracy_score(y_val, y_val_pred)\n",
        "print(f\"Accuracy on validation set: {accuracy:.4f}\")\n",
        "print(classification_report(y_val, y_val_pred))\n"
      ],
      "metadata": {
        "colab": {
          "base_uri": "https://localhost:8080/"
        },
        "outputId": "b3f92106-d7da-4480-e2a0-8833beb418b9",
        "id": "jbYEloC7EEi9"
      },
      "execution_count": null,
      "outputs": [
        {
          "output_type": "stream",
          "name": "stdout",
          "text": [
            "Train Score: 0.9907407555926149\n",
            "Validation Score: 0.9446744984585006\n",
            "Accuracy on validation set: 0.9499\n",
            "              precision    recall  f1-score   support\n",
            "\n",
            "           1       0.91      0.94      0.92       314\n",
            "           2       0.96      0.96      0.96       486\n",
            "           3       0.99      1.00      1.00       594\n",
            "           4       0.92      0.89      0.90        87\n",
            "           5       0.17      0.14      0.15         7\n",
            "           6       0.84      0.88      0.86       135\n",
            "           7       0.99      0.94      0.96        87\n",
            "           8       0.95      0.90      0.92       249\n",
            "           9       0.95      0.96      0.96       215\n",
            "\n",
            "    accuracy                           0.95      2174\n",
            "   macro avg       0.85      0.85      0.85      2174\n",
            "weighted avg       0.95      0.95      0.95      2174\n",
            "\n"
          ]
        }
      ]
    },
    {
      "cell_type": "code",
      "source": [
        "from sklearn.ensemble import GradientBoostingClassifier\n",
        "from sklearn.model_selection import train_test_split\n",
        "from sklearn.metrics import accuracy_score, classification_report\n",
        "from sklearn.model_selection import cross_validate\n",
        "\n",
        "\n",
        "# PCA로 차원 축소\n",
        "pca = PCA(n_components=100)\n",
        "train_pca = pca.fit_transform(train_images)  # 훈련 데이터에 대해 PCA 적용\n",
        "\n",
        "# 데이터 분할 (train_pca와 train_labels는 이미 PCA 처리된 데이터와 레이블)\n",
        "X_train, X_val, y_train, y_val = train_test_split(train_pca, train_labels['Class'], test_size=0.2, random_state=42)\n",
        "\n",
        "# 모델 훈련\n",
        "gb = GradientBoostingClassifier(n_estimators=100, random_state=42)\n",
        "scores = cross_validate(gb, X_train, y_train, cv=5, return_train_score=True, n_jobs=-1)\n",
        "gb.fit(X_train, y_train)\n",
        "\n",
        "print(\"Train Score:\", np.mean(scores['train_score']))\n",
        "print(\"Validation Score:\", np.mean(scores['test_score']))\n",
        "\n",
        "# 검증 데이터에 대한 예측\n",
        "y_val_pred = gb.predict(X_val)\n",
        "\n",
        "# 성능 평가\n",
        "accuracy = accuracy_score(y_val, y_val_pred)\n",
        "print(f\"Accuracy on validation set: {accuracy:.4f}\")\n",
        "print(classification_report(y_val, y_val_pred))\n"
      ],
      "metadata": {
        "colab": {
          "base_uri": "https://localhost:8080/"
        },
        "outputId": "2e5a22b2-5a55-46c1-e051-1e597fc49e4e",
        "id": "Cp3CnWhhEH6P"
      },
      "execution_count": null,
      "outputs": [
        {
          "output_type": "stream",
          "name": "stdout",
          "text": [
            "Train Score: 0.991804705266626\n",
            "Validation Score: 0.9434096682682732\n",
            "Accuracy on validation set: 0.9494\n",
            "              precision    recall  f1-score   support\n",
            "\n",
            "           1       0.89      0.96      0.92       314\n",
            "           2       0.98      0.96      0.97       486\n",
            "           3       1.00      1.00      1.00       594\n",
            "           4       0.93      0.89      0.91        87\n",
            "           5       0.33      0.14      0.20         7\n",
            "           6       0.82      0.86      0.84       135\n",
            "           7       0.99      0.95      0.97        87\n",
            "           8       0.94      0.89      0.91       249\n",
            "           9       0.95      0.96      0.96       215\n",
            "\n",
            "    accuracy                           0.95      2174\n",
            "   macro avg       0.87      0.84      0.85      2174\n",
            "weighted avg       0.95      0.95      0.95      2174\n",
            "\n"
          ]
        }
      ]
    },
    {
      "cell_type": "code",
      "source": [
        "from sklearn.ensemble import GradientBoostingClassifier\n",
        "from sklearn.model_selection import train_test_split\n",
        "from sklearn.metrics import accuracy_score, classification_report\n",
        "from sklearn.model_selection import cross_validate\n",
        "\n",
        "\n",
        "# PCA로 차원 축소\n",
        "pca = PCA(n_components=200)\n",
        "train_pca = pca.fit_transform(train_images)  # 훈련 데이터에 대해 PCA 적용\n",
        "\n",
        "# 데이터 분할 (train_pca와 train_labels는 이미 PCA 처리된 데이터와 레이블)\n",
        "X_train, X_val, y_train, y_val = train_test_split(train_pca, train_labels['Class'], test_size=0.2, random_state=42)\n",
        "\n",
        "# 모델 훈련\n",
        "gb = GradientBoostingClassifier(n_estimators=100, random_state=42)\n",
        "scores = cross_validate(gb, X_train, y_train, cv=5, return_train_score=True, n_jobs=-1)\n",
        "gb.fit(X_train, y_train)\n",
        "\n",
        "print(\"Train Score:\", np.mean(scores['train_score']))\n",
        "print(\"Validation Score:\", np.mean(scores['test_score']))\n",
        "\n",
        "# 검증 데이터에 대한 예측\n",
        "y_val_pred = gb.predict(X_val)\n",
        "\n",
        "# 성능 평가\n",
        "accuracy = accuracy_score(y_val, y_val_pred)\n",
        "print(f\"Accuracy on validation set: {accuracy:.4f}\")\n",
        "print(classification_report(y_val, y_val_pred))\n"
      ],
      "metadata": {
        "colab": {
          "base_uri": "https://localhost:8080/"
        },
        "id": "5-PLZfjo1MPN",
        "outputId": "19f88b22-911a-4aeb-98cd-376b8f4ecf56"
      },
      "execution_count": null,
      "outputs": [
        {
          "output_type": "stream",
          "name": "stdout",
          "text": [
            "Train Score: 0.9924373271201666\n",
            "Validation Score: 0.9422599128766647\n",
            "Accuracy on validation set: 0.9494\n",
            "              precision    recall  f1-score   support\n",
            "\n",
            "           1       0.89      0.96      0.92       314\n",
            "           2       0.96      0.97      0.97       486\n",
            "           3       0.99      1.00      1.00       594\n",
            "           4       0.92      0.89      0.90        87\n",
            "           5       0.00      0.00      0.00         7\n",
            "           6       0.88      0.84      0.86       135\n",
            "           7       0.99      0.94      0.96        87\n",
            "           8       0.94      0.88      0.91       249\n",
            "           9       0.95      0.95      0.95       215\n",
            "\n",
            "    accuracy                           0.95      2174\n",
            "   macro avg       0.84      0.83      0.83      2174\n",
            "weighted avg       0.95      0.95      0.95      2174\n",
            "\n"
          ]
        }
      ]
    },
    {
      "cell_type": "markdown",
      "source": [
        "적정 차원 크기는 100인 것으로 보임"
      ],
      "metadata": {
        "id": "-dBWkDQyIkAr"
      }
    },
    {
      "cell_type": "markdown",
      "source": [
        "## XGBoost\n",
        "\n",
        "그래디언트 부스팅을 개선한 알고리즘인 만큼, 실제 모델의 결과에서도 차이가 있는지 확인해보고자 함."
      ],
      "metadata": {
        "id": "H4cw9YPFPPkg"
      }
    },
    {
      "cell_type": "markdown",
      "source": [
        "### 기본 코드"
      ],
      "metadata": {
        "id": "6vwvt4ygFBnb"
      }
    },
    {
      "cell_type": "markdown",
      "source": [
        "**차원 개수 별 성능 차이 비교**\n",
        "\n",
        "n_components : 50, 100, 200 으로 나눠서 실습.\n",
        "- 원래 차원 개수는 4096개"
      ],
      "metadata": {
        "id": "gIQeCocuBECT"
      }
    },
    {
      "cell_type": "code",
      "source": [
        "print(f\"trina_images shape: {train_images.shape}\")\n",
        "print(f\"train_pca shape: {train_pca.shape}\")\n",
        "print(f\"train_labels shape: {train_labels['Class'].shape}\")\n"
      ],
      "metadata": {
        "colab": {
          "base_uri": "https://localhost:8080/"
        },
        "id": "uw3df44s_gW8",
        "outputId": "f799587a-622f-4bf6-e93e-13f1035ab091"
      },
      "execution_count": null,
      "outputs": [
        {
          "output_type": "stream",
          "name": "stdout",
          "text": [
            "trina_images shape: (10868, 4096)\n",
            "train_pca shape: (10868, 100)\n",
            "train_labels shape: (10868,)\n"
          ]
        }
      ]
    },
    {
      "cell_type": "code",
      "source": [
        "# 레이블 변환 (0부터 시작)\n",
        "y_train_adjusted = y_train - 1\n",
        "y_val_adjusted = y_val - 1\n"
      ],
      "metadata": {
        "id": "NF9aCb6z-QD6"
      },
      "execution_count": null,
      "outputs": []
    },
    {
      "cell_type": "code",
      "source": [
        "from xgboost import XGBClassifier\n",
        "from sklearn.model_selection import train_test_split\n",
        "from sklearn.metrics import accuracy_score, classification_report\n",
        "\n",
        "\n",
        "# PCA로 차원 축소\n",
        "pca = PCA(n_components=50)\n",
        "train_pca = pca.fit_transform(train_images)  # 훈련 데이터에 대해 PCA 적용\n",
        "\n",
        "\n",
        "# 데이터 분할\n",
        "X_train, X_val, y_train, y_val = train_test_split(train_pca, train_labels['Class'], test_size=0.2, random_state=42)\n",
        "\n",
        "xgb = XGBClassifier(tree_method='hist', random_state=42)\n",
        "scores = cross_validate(xgb, X_train, y_train-1, cv=5, return_train_score=True, n_jobs=-1)\n",
        "xgb.fit(X_train, y_train-1)\n",
        "\n",
        "print(\"Train Score:\", np.mean(scores['train_score']))\n",
        "print(\"Validation Score:\", np.mean(scores['test_score']))\n",
        "\n",
        "# 검증 데이터 평가\n",
        "y_val_pred = xgb.predict(X_val)\n",
        "print(\"Validation Accuracy:\", accuracy_score(y_val - 1, y_val_pred))\n",
        "print(classification_report(y_val - 1, y_val_pred))\n"
      ],
      "metadata": {
        "colab": {
          "base_uri": "https://localhost:8080/"
        },
        "outputId": "7e67e2d0-f386-4256-e4e8-a987afe6f1cd",
        "id": "koSfF17hJZwZ"
      },
      "execution_count": null,
      "outputs": [
        {
          "output_type": "stream",
          "name": "stdout",
          "text": [
            "Train Score: 1.0\n",
            "Validation Score: 0.9589371561900514\n",
            "Validation Accuracy: 0.9673413063477461\n",
            "              precision    recall  f1-score   support\n",
            "\n",
            "           0       0.92      0.98      0.95       314\n",
            "           1       0.99      0.98      0.99       486\n",
            "           2       0.99      1.00      0.99       594\n",
            "           3       0.90      0.94      0.92        87\n",
            "           4       0.50      0.29      0.36         7\n",
            "           5       0.95      0.91      0.93       135\n",
            "           6       1.00      0.97      0.98        87\n",
            "           7       0.95      0.90      0.93       249\n",
            "           8       0.98      0.99      0.98       215\n",
            "\n",
            "    accuracy                           0.97      2174\n",
            "   macro avg       0.91      0.88      0.89      2174\n",
            "weighted avg       0.97      0.97      0.97      2174\n",
            "\n"
          ]
        }
      ]
    },
    {
      "cell_type": "code",
      "source": [
        "from xgboost import XGBClassifier\n",
        "from sklearn.model_selection import train_test_split\n",
        "from sklearn.metrics import accuracy_score, classification_report\n",
        "\n",
        "\n",
        "# PCA로 차원 축소\n",
        "pca = PCA(n_components=100)\n",
        "train_pca = pca.fit_transform(train_images)  # 훈련 데이터에 대해 PCA 적용\n",
        "\n",
        "\n",
        "# 데이터 분할\n",
        "X_train, X_val, y_train, y_val = train_test_split(train_pca, train_labels['Class'], test_size=0.2, random_state=42)\n",
        "\n",
        "xgb = XGBClassifier(tree_method='hist', random_state=42)\n",
        "scores = cross_validate(xgb, X_train, y_train-1, cv=5, return_train_score=True, n_jobs=-1)\n",
        "xgb.fit(X_train, y_train-1)\n",
        "\n",
        "print(\"Train Score:\", np.mean(scores['train_score']))\n",
        "print(\"Validation Score:\", np.mean(scores['test_score']))\n",
        "\n",
        "# 검증 데이터 평가\n",
        "y_val_pred = xgb.predict(X_val)\n",
        "print(\"Validation Accuracy:\", accuracy_score(y_val - 1, y_val_pred))\n",
        "print(classification_report(y_val - 1, y_val_pred))\n"
      ],
      "metadata": {
        "colab": {
          "base_uri": "https://localhost:8080/"
        },
        "outputId": "d09fc213-ab16-4ac2-8401-2cf5a32ac9b0",
        "id": "5VT2jaoLIy_c"
      },
      "execution_count": null,
      "outputs": [
        {
          "output_type": "stream",
          "name": "stdout",
          "text": [
            "Train Score: 1.0\n",
            "Validation Score: 0.9567519923027599\n",
            "Validation Accuracy: 0.9641214351425943\n",
            "              precision    recall  f1-score   support\n",
            "\n",
            "           0       0.92      0.97      0.94       314\n",
            "           1       0.99      0.98      0.98       486\n",
            "           2       0.99      1.00      0.99       594\n",
            "           3       0.93      0.94      0.94        87\n",
            "           4       0.50      0.29      0.36         7\n",
            "           5       0.92      0.90      0.91       135\n",
            "           6       0.99      0.98      0.98        87\n",
            "           7       0.95      0.90      0.92       249\n",
            "           8       0.98      0.97      0.97       215\n",
            "\n",
            "    accuracy                           0.96      2174\n",
            "   macro avg       0.91      0.88      0.89      2174\n",
            "weighted avg       0.96      0.96      0.96      2174\n",
            "\n"
          ]
        }
      ]
    },
    {
      "cell_type": "code",
      "source": [
        "from xgboost import XGBClassifier\n",
        "from sklearn.model_selection import train_test_split\n",
        "from sklearn.metrics import accuracy_score, classification_report\n",
        "from sklearn.model_selection import cross_validate\n",
        "from sklearn.decomposition import PCA\n",
        "\n",
        "# PCA로 차원 축소\n",
        "pca = PCA(n_components=200)\n",
        "train_pca = pca.fit_transform(train_images)  # 훈련 데이터에 대해 PCA 적용\n",
        "\n",
        "# 데이터 분할\n",
        "X_train, X_val, y_train, y_val = train_test_split(train_pca, train_labels['Class'], test_size=0.2, random_state=42)\n",
        "\n",
        "xgb = XGBClassifier(tree_method='hist', random_state=42)\n",
        "scores = cross_validate(xgb, X_train, y_train-1, cv=5, return_train_score=True, n_jobs=-1)\n",
        "xgb.fit(X_train, y_train-1)\n",
        "\n",
        "print(\"Train Score:\", np.mean(scores['train_score']))\n",
        "print(\"Validation Score:\", np.mean(scores['test_score']))\n",
        "\n",
        "# 검증 데이터 평가\n",
        "y_val_pred = xgb.predict(X_val)\n",
        "print(\"Validation Accuracy:\", accuracy_score(y_val - 1, y_val_pred))\n",
        "print(classification_report(y_val - 1, y_val_pred))\n"
      ],
      "metadata": {
        "colab": {
          "base_uri": "https://localhost:8080/"
        },
        "outputId": "1ce6746d-b8af-41c4-e9e9-1f93e8097518",
        "id": "7iYeex3e7YZv"
      },
      "execution_count": null,
      "outputs": [
        {
          "output_type": "stream",
          "name": "stdout",
          "text": [
            "Train Score: 1.0\n",
            "Validation Score: 0.955601641354402\n",
            "Validation Accuracy: 0.9604415823367065\n",
            "              precision    recall  f1-score   support\n",
            "\n",
            "           0       0.90      0.98      0.93       314\n",
            "           1       0.98      0.97      0.98       486\n",
            "           2       0.99      1.00      0.99       594\n",
            "           3       0.91      0.92      0.91        87\n",
            "           4       0.50      0.14      0.22         7\n",
            "           5       0.93      0.89      0.91       135\n",
            "           6       0.99      0.97      0.98        87\n",
            "           7       0.97      0.90      0.93       249\n",
            "           8       0.97      0.97      0.97       215\n",
            "\n",
            "    accuracy                           0.96      2174\n",
            "   macro avg       0.90      0.86      0.87      2174\n",
            "weighted avg       0.96      0.96      0.96      2174\n",
            "\n"
          ]
        }
      ]
    },
    {
      "cell_type": "code",
      "source": [
        "print(train_images.shape)"
      ],
      "metadata": {
        "id": "ccFHS_fK8wYl"
      },
      "execution_count": null,
      "outputs": []
    },
    {
      "cell_type": "markdown",
      "source": [
        "- max_depth: 트리의 최대 깊이 (과적합 방지)\n",
        "- learning_rate: 학습률 (작을수록 더 많은 트리가 필요)\n",
        "- n_estimators: 트리 개수\n",
        "- subsample: 데이터 샘플링 비율\n",
        "- colsample_bytree: 각 트리에서 사용할 특성의 비율\n",
        "- eval_metric: 평가 척도 (예: mlogloss, error 등)\n",
        "- min_child_weight: 리프 노드가 가지는 최소 가중치 (과적합 방지)"
      ],
      "metadata": {
        "id": "VtHY705L-A_n"
      }
    },
    {
      "cell_type": "markdown",
      "source": [
        "### Grid Search"
      ],
      "metadata": {
        "id": "i-7A6uf4Be2n"
      }
    },
    {
      "cell_type": "code",
      "source": [
        "from sklearn.model_selection import GridSearchCV\n",
        "from xgboost import XGBClassifier\n",
        "import pandas as pd\n",
        "# PCA로 차원 축소\n",
        "pca = PCA(n_components=50)\n",
        "train_pca = pca.fit_transform(train_images)  # 훈련 데이터에 대해 PCA 적용\n",
        "\n",
        "# 데이터 분할 (train_pca와 train_labels는 이미 PCA 처리된 데이터와 레이블)\n",
        "X_train, X_val, y_train, y_val = train_test_split(train_pca, train_labels['Class'], test_size=0.2, random_state=42)\n",
        "\n",
        "\n",
        "# 초기 모델 생성\n",
        "xgb_model = XGBClassifier(tree_method='hist', random_state=42)\n",
        "\n",
        "# 파라미터 그리드 설정\n",
        "xgb_param_grid={\n",
        "    'n_estimators' : [50, 100, 200],\n",
        "    'learning_rate' : [0.1,0.15, 0.2],\n",
        "    'max_depth' : [5,7,10],\n",
        "\n",
        "}\n",
        "\n",
        "# GridSearchCV 설정\n",
        "grid_search = GridSearchCV(estimator=xgb_model, param_grid=xgb_param_grid, cv=5, scoring='accuracy', verbose=1, n_jobs=-1)\n",
        "\n",
        "# 최적화 수행\n",
        "grid_search.fit(X_train, y_train-1)\n",
        "\n",
        "# 최적 파라미터 출력\n",
        "print(\"최적 파라미터:\", grid_search.best_params_)\n",
        "print(\"최고 정확도:\", grid_search.best_score_)\n",
        "\n",
        "\n",
        "\n",
        "\n"
      ],
      "metadata": {
        "colab": {
          "base_uri": "https://localhost:8080/"
        },
        "id": "kmOr-8wf9s8v",
        "outputId": "5b548ee4-fea2-45a4-a4c1-dacf53e9a73c"
      },
      "execution_count": null,
      "outputs": [
        {
          "output_type": "stream",
          "name": "stdout",
          "text": [
            "Fitting 5 folds for each of 27 candidates, totalling 135 fits\n",
            "최적 파라미터: {'learning_rate': 0.15, 'max_depth': 5, 'n_estimators': 200}\n",
            "최고 정확도: 0.9604326653612946\n"
          ]
        }
      ]
    },
    {
      "cell_type": "code",
      "source": [
        "#최적 조합으로 모델 설정 후 수행\n",
        "xgb = grid_search.best_estimator_\n",
        "print(xgb.score(X_train, y_train-1))"
      ],
      "metadata": {
        "id": "l4H74lvBrF9K"
      },
      "execution_count": null,
      "outputs": []
    },
    {
      "cell_type": "code",
      "source": [
        "from sklearn.metrics import classification_report\n",
        "\n",
        "# PCA로 차원 축소\n",
        "pca = PCA(n_components=50)\n",
        "train_pca = pca.fit_transform(train_images)  # 훈련 데이터에 대해 PCA 적용\n",
        "\n",
        "# 데이터 분할 (train_pca와 train_labels는 이미 PCA 처리된 데이터와 레이블)\n",
        "X_train, X_val, y_train, y_val = train_test_split(train_pca, train_labels['Class'], test_size=0.2, random_state=42)\n",
        "\n",
        "\n",
        "# XGBoost 모델 생성\n",
        "xgb_model = XGBClassifier(tree_method='hist', learning_rate=0.15, max_depth=5, n_estimators=200, random_state=42)\n",
        "scores = cross_validate(xgb_model, X_train, y_train-1, cv=5, return_train_score=True, n_jobs=-1)\n",
        "print(\"Train Score:\", np.mean(scores['train_score']))\n",
        "print(\"Validation Score:\", np.mean(scores['test_score']))\n",
        "\n",
        "# 모델 훈련\n",
        "xgb_model.fit(X_train, y_train-1)\n",
        "\n",
        "# 검증 데이터에 대한 예측\n",
        "y_val_pred = xgb_model.predict(X_val)\n",
        "\n",
        "\n",
        "print(\"Validation Accuracy:\", accuracy_score(y_val - 1, y_val_pred))\n",
        "print(classification_report(y_val - 1, y_val_pred))\n"
      ],
      "metadata": {
        "colab": {
          "base_uri": "https://localhost:8080/"
        },
        "id": "PIVjc77qjy2_",
        "outputId": "ab14bc78-f37f-4465-f3b8-420e5797437e"
      },
      "execution_count": null,
      "outputs": [
        {
          "output_type": "stream",
          "name": "stdout",
          "text": [
            "Train Score: 1.0\n",
            "Validation Score: 0.9589375532278845\n",
            "Validation Accuracy: 0.9645814167433303\n",
            "              precision    recall  f1-score   support\n",
            "\n",
            "           0       0.92      0.97      0.95       314\n",
            "           1       0.99      0.98      0.98       486\n",
            "           2       0.99      1.00      0.99       594\n",
            "           3       0.89      0.94      0.92        87\n",
            "           4       0.00      0.00      0.00         7\n",
            "           5       0.95      0.92      0.94       135\n",
            "           6       0.99      0.98      0.98        87\n",
            "           7       0.94      0.90      0.92       249\n",
            "           8       0.98      0.98      0.98       215\n",
            "\n",
            "    accuracy                           0.96      2174\n",
            "   macro avg       0.85      0.85      0.85      2174\n",
            "weighted avg       0.96      0.96      0.96      2174\n",
            "\n"
          ]
        }
      ]
    },
    {
      "cell_type": "markdown",
      "source": [
        "Ramnit, Lollipop, Kelihos_ver3\n",
        "Vundo, Simda, Tracur, Kelihos_ver1\n",
        "Obfuscator.ACY, Gatak"
      ],
      "metadata": {
        "id": "Lblo9ZpanEZc"
      }
    },
    {
      "cell_type": "markdown",
      "source": [
        "## LightGBM"
      ],
      "metadata": {
        "id": "HSwqBIttEYIM"
      }
    },
    {
      "cell_type": "markdown",
      "source": [
        "### 기본 코드"
      ],
      "metadata": {
        "id": "lTrJnhvHElrM"
      }
    },
    {
      "cell_type": "code",
      "source": [
        "from lightgbm import LGBMClassifier\n",
        "from sklearn.model_selection import train_test_split\n",
        "from sklearn.metrics import accuracy_score, classification_report\n",
        "from sklearn.model_selection import cross_validate\n",
        "from sklearn.decomposition import PCA\n",
        "# PCA로 차원 축소\n",
        "pca = PCA(n_components=50)\n",
        "train_pca = pca.fit_transform(train_images)  # 훈련 데이터에 대해 PCA 적용\n",
        "\n",
        "X_train, X_val, y_train, y_val = train_test_split(train_pca, train_labels['Class'], test_size=0.2, random_state=42)\n",
        "\n",
        "lgb = LGBMClassifier(random_state=42)\n",
        "scores = cross_validate(lgb, X_train, y_train, cv=5, return_train_score=True, n_jobs=-1)\n",
        "lgb.fit(X_train, y_train)\n",
        "\n",
        "print(\"Train Score:\", np.mean(scores['train_score']))\n",
        "print(\"Validation Score:\", np.mean(scores['test_score']))\n",
        "\n",
        "# 검증 데이터 평가\n",
        "y_val_pred = lgb.predict(X_val)\n",
        "print(\"Validation Accuracy:\", accuracy_score(y_val, y_val_pred))\n",
        "print(classification_report(y_val, y_val_pred))"
      ],
      "metadata": {
        "id": "RnnhVet1Em5X",
        "colab": {
          "base_uri": "https://localhost:8080/"
        },
        "outputId": "9c01a383-3ba9-43ec-83db-11c8b2924320"
      },
      "execution_count": null,
      "outputs": [
        {
          "output_type": "stream",
          "name": "stderr",
          "text": [
            "/usr/local/lib/python3.10/dist-packages/dask/dataframe/__init__.py:42: FutureWarning: \n",
            "Dask dataframe query planning is disabled because dask-expr is not installed.\n",
            "\n",
            "You can install it with `pip install dask[dataframe]` or `conda install dask`.\n",
            "This will raise in a future version.\n",
            "\n",
            "  warnings.warn(msg, FutureWarning)\n"
          ]
        },
        {
          "output_type": "stream",
          "name": "stdout",
          "text": [
            "[LightGBM] [Info] Auto-choosing col-wise multi-threading, the overhead of testing was 0.001677 seconds.\n",
            "You can set `force_col_wise=true` to remove the overhead.\n",
            "[LightGBM] [Info] Total Bins 12750\n",
            "[LightGBM] [Info] Number of data points in the train set: 8694, number of used features: 50\n",
            "[LightGBM] [Info] Start training from score -1.958061\n",
            "[LightGBM] [Info] Start training from score -1.473494\n",
            "[LightGBM] [Info] Start training from score -1.309069\n",
            "[LightGBM] [Info] Start training from score -3.109383\n",
            "[LightGBM] [Info] Start training from score -5.515040\n",
            "[LightGBM] [Info] Start training from score -2.647141\n",
            "[LightGBM] [Info] Start training from score -3.330595\n",
            "[LightGBM] [Info] Start training from score -2.183857\n",
            "[LightGBM] [Info] Start training from score -2.388280\n",
            "[LightGBM] [Warning] No further splits with positive gain, best gain: -inf\n",
            "[LightGBM] [Warning] No further splits with positive gain, best gain: -inf\n",
            "[LightGBM] [Warning] No further splits with positive gain, best gain: -inf\n",
            "[LightGBM] [Warning] No further splits with positive gain, best gain: -inf\n",
            "[LightGBM] [Warning] No further splits with positive gain, best gain: -inf\n",
            "[LightGBM] [Warning] No further splits with positive gain, best gain: -inf\n",
            "[LightGBM] [Warning] No further splits with positive gain, best gain: -inf\n",
            "[LightGBM] [Warning] No further splits with positive gain, best gain: -inf\n",
            "[LightGBM] [Warning] No further splits with positive gain, best gain: -inf\n",
            "[LightGBM] [Warning] No further splits with positive gain, best gain: -inf\n",
            "[LightGBM] [Warning] No further splits with positive gain, best gain: -inf\n",
            "[LightGBM] [Warning] No further splits with positive gain, best gain: -inf\n",
            "[LightGBM] [Warning] No further splits with positive gain, best gain: -inf\n",
            "[LightGBM] [Warning] No further splits with positive gain, best gain: -inf\n",
            "[LightGBM] [Warning] No further splits with positive gain, best gain: -inf\n",
            "[LightGBM] [Warning] No further splits with positive gain, best gain: -inf\n",
            "[LightGBM] [Warning] No further splits with positive gain, best gain: -inf\n",
            "[LightGBM] [Warning] No further splits with positive gain, best gain: -inf\n",
            "[LightGBM] [Warning] No further splits with positive gain, best gain: -inf\n",
            "[LightGBM] [Warning] No further splits with positive gain, best gain: -inf\n",
            "[LightGBM] [Warning] No further splits with positive gain, best gain: -inf\n",
            "[LightGBM] [Warning] No further splits with positive gain, best gain: -inf\n",
            "[LightGBM] [Warning] No further splits with positive gain, best gain: -inf\n",
            "[LightGBM] [Warning] No further splits with positive gain, best gain: -inf\n",
            "[LightGBM] [Warning] No further splits with positive gain, best gain: -inf\n",
            "[LightGBM] [Warning] No further splits with positive gain, best gain: -inf\n",
            "[LightGBM] [Warning] No further splits with positive gain, best gain: -inf\n",
            "[LightGBM] [Warning] No further splits with positive gain, best gain: -inf\n",
            "[LightGBM] [Warning] No further splits with positive gain, best gain: -inf\n",
            "[LightGBM] [Warning] No further splits with positive gain, best gain: -inf\n",
            "[LightGBM] [Warning] No further splits with positive gain, best gain: -inf\n",
            "[LightGBM] [Warning] No further splits with positive gain, best gain: -inf\n",
            "[LightGBM] [Warning] No further splits with positive gain, best gain: -inf\n",
            "[LightGBM] [Warning] No further splits with positive gain, best gain: -inf\n",
            "[LightGBM] [Warning] No further splits with positive gain, best gain: -inf\n",
            "[LightGBM] [Warning] No further splits with positive gain, best gain: -inf\n",
            "[LightGBM] [Warning] No further splits with positive gain, best gain: -inf\n",
            "[LightGBM] [Warning] No further splits with positive gain, best gain: -inf\n",
            "[LightGBM] [Warning] No further splits with positive gain, best gain: -inf\n",
            "[LightGBM] [Warning] No further splits with positive gain, best gain: -inf\n",
            "[LightGBM] [Warning] No further splits with positive gain, best gain: -inf\n",
            "[LightGBM] [Warning] No further splits with positive gain, best gain: -inf\n",
            "[LightGBM] [Warning] No further splits with positive gain, best gain: -inf\n",
            "[LightGBM] [Warning] No further splits with positive gain, best gain: -inf\n",
            "[LightGBM] [Warning] No further splits with positive gain, best gain: -inf\n",
            "[LightGBM] [Warning] No further splits with positive gain, best gain: -inf\n",
            "[LightGBM] [Warning] No further splits with positive gain, best gain: -inf\n",
            "[LightGBM] [Warning] No further splits with positive gain, best gain: -inf\n",
            "[LightGBM] [Warning] No further splits with positive gain, best gain: -inf\n",
            "[LightGBM] [Warning] No further splits with positive gain, best gain: -inf\n",
            "[LightGBM] [Warning] No further splits with positive gain, best gain: -inf\n",
            "[LightGBM] [Warning] No further splits with positive gain, best gain: -inf\n",
            "[LightGBM] [Warning] No further splits with positive gain, best gain: -inf\n",
            "[LightGBM] [Warning] No further splits with positive gain, best gain: -inf\n",
            "[LightGBM] [Warning] No further splits with positive gain, best gain: -inf\n",
            "[LightGBM] [Warning] No further splits with positive gain, best gain: -inf\n",
            "[LightGBM] [Warning] No further splits with positive gain, best gain: -inf\n",
            "[LightGBM] [Warning] No further splits with positive gain, best gain: -inf\n",
            "[LightGBM] [Warning] No further splits with positive gain, best gain: -inf\n",
            "[LightGBM] [Warning] No further splits with positive gain, best gain: -inf\n",
            "[LightGBM] [Warning] No further splits with positive gain, best gain: -inf\n",
            "[LightGBM] [Warning] No further splits with positive gain, best gain: -inf\n",
            "[LightGBM] [Warning] No further splits with positive gain, best gain: -inf\n",
            "[LightGBM] [Warning] No further splits with positive gain, best gain: -inf\n",
            "[LightGBM] [Warning] No further splits with positive gain, best gain: -inf\n",
            "[LightGBM] [Warning] No further splits with positive gain, best gain: -inf\n",
            "[LightGBM] [Warning] No further splits with positive gain, best gain: -inf\n",
            "[LightGBM] [Warning] No further splits with positive gain, best gain: -inf\n",
            "[LightGBM] [Warning] No further splits with positive gain, best gain: -inf\n",
            "[LightGBM] [Warning] No further splits with positive gain, best gain: -inf\n",
            "[LightGBM] [Warning] No further splits with positive gain, best gain: -inf\n",
            "[LightGBM] [Warning] No further splits with positive gain, best gain: -inf\n",
            "[LightGBM] [Warning] No further splits with positive gain, best gain: -inf\n",
            "[LightGBM] [Warning] No further splits with positive gain, best gain: -inf\n",
            "[LightGBM] [Warning] No further splits with positive gain, best gain: -inf\n",
            "[LightGBM] [Warning] No further splits with positive gain, best gain: -inf\n",
            "[LightGBM] [Warning] No further splits with positive gain, best gain: -inf\n",
            "[LightGBM] [Warning] No further splits with positive gain, best gain: -inf\n",
            "[LightGBM] [Warning] No further splits with positive gain, best gain: -inf\n",
            "[LightGBM] [Warning] No further splits with positive gain, best gain: -inf\n",
            "[LightGBM] [Warning] No further splits with positive gain, best gain: -inf\n",
            "Train Score: 1.0\n",
            "Validation Score: 0.9603177890815919\n",
            "Validation Accuracy: 0.9659613615455381\n",
            "              precision    recall  f1-score   support\n",
            "\n",
            "           1       0.91      0.98      0.95       314\n",
            "           2       1.00      0.98      0.99       486\n",
            "           3       0.99      0.99      0.99       594\n",
            "           4       0.91      0.94      0.93        87\n",
            "           5       0.00      0.00      0.00         7\n",
            "           6       0.94      0.91      0.92       135\n",
            "           7       0.99      0.98      0.98        87\n",
            "           8       0.93      0.90      0.92       249\n",
            "           9       0.98      0.99      0.98       215\n",
            "\n",
            "    accuracy                           0.97      2174\n",
            "   macro avg       0.85      0.85      0.85      2174\n",
            "weighted avg       0.96      0.97      0.96      2174\n",
            "\n"
          ]
        }
      ]
    }
  ]
}