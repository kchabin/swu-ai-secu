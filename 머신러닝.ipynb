{
  "cells": [
    {
      "cell_type": "markdown",
      "metadata": {
        "id": "view-in-github",
        "colab_type": "text"
      },
      "source": [
        "<a href=\"https://colab.research.google.com/github/kchabin/swu-ai-secu/blob/main/%EB%A8%B8%EC%8B%A0%EB%9F%AC%EB%8B%9D.ipynb\" target=\"_parent\"><img src=\"https://colab.research.google.com/assets/colab-badge.svg\" alt=\"Open In Colab\"/></a>"
      ]
    },
    {
      "cell_type": "code",
      "execution_count": null,
      "metadata": {
        "colab": {
          "base_uri": "https://localhost:8080/"
        },
        "collapsed": true,
        "id": "fUxi0oegD9Ck",
        "outputId": "798579f7-6610-43cd-cf6c-c95817ea1930"
      },
      "outputs": [
        {
          "name": "stdout",
          "output_type": "stream",
          "text": [
            "Requirement already satisfied: Pillow in /usr/local/lib/python3.10/dist-packages (11.0.0)\n",
            "Requirement already satisfied: numpy in /usr/local/lib/python3.10/dist-packages (1.26.4)\n",
            "Requirement already satisfied: tensorflow in /usr/local/lib/python3.10/dist-packages (2.17.1)\n",
            "Requirement already satisfied: absl-py>=1.0.0 in /usr/local/lib/python3.10/dist-packages (from tensorflow) (1.4.0)\n",
            "Requirement already satisfied: astunparse>=1.6.0 in /usr/local/lib/python3.10/dist-packages (from tensorflow) (1.6.3)\n",
            "Requirement already satisfied: flatbuffers>=24.3.25 in /usr/local/lib/python3.10/dist-packages (from tensorflow) (24.3.25)\n",
            "Requirement already satisfied: gast!=0.5.0,!=0.5.1,!=0.5.2,>=0.2.1 in /usr/local/lib/python3.10/dist-packages (from tensorflow) (0.6.0)\n",
            "Requirement already satisfied: google-pasta>=0.1.1 in /usr/local/lib/python3.10/dist-packages (from tensorflow) (0.2.0)\n",
            "Requirement already satisfied: h5py>=3.10.0 in /usr/local/lib/python3.10/dist-packages (from tensorflow) (3.12.1)\n",
            "Requirement already satisfied: libclang>=13.0.0 in /usr/local/lib/python3.10/dist-packages (from tensorflow) (18.1.1)\n",
            "Requirement already satisfied: ml-dtypes<0.5.0,>=0.3.1 in /usr/local/lib/python3.10/dist-packages (from tensorflow) (0.4.1)\n",
            "Requirement already satisfied: opt-einsum>=2.3.2 in /usr/local/lib/python3.10/dist-packages (from tensorflow) (3.4.0)\n",
            "Requirement already satisfied: packaging in /usr/local/lib/python3.10/dist-packages (from tensorflow) (24.2)\n",
            "Requirement already satisfied: protobuf!=4.21.0,!=4.21.1,!=4.21.2,!=4.21.3,!=4.21.4,!=4.21.5,<5.0.0dev,>=3.20.3 in /usr/local/lib/python3.10/dist-packages (from tensorflow) (4.25.5)\n",
            "Requirement already satisfied: requests<3,>=2.21.0 in /usr/local/lib/python3.10/dist-packages (from tensorflow) (2.32.3)\n",
            "Requirement already satisfied: setuptools in /usr/local/lib/python3.10/dist-packages (from tensorflow) (75.1.0)\n",
            "Requirement already satisfied: six>=1.12.0 in /usr/local/lib/python3.10/dist-packages (from tensorflow) (1.16.0)\n",
            "Requirement already satisfied: termcolor>=1.1.0 in /usr/local/lib/python3.10/dist-packages (from tensorflow) (2.5.0)\n",
            "Requirement already satisfied: typing-extensions>=3.6.6 in /usr/local/lib/python3.10/dist-packages (from tensorflow) (4.12.2)\n",
            "Requirement already satisfied: wrapt>=1.11.0 in /usr/local/lib/python3.10/dist-packages (from tensorflow) (1.17.0)\n",
            "Requirement already satisfied: grpcio<2.0,>=1.24.3 in /usr/local/lib/python3.10/dist-packages (from tensorflow) (1.68.1)\n",
            "Requirement already satisfied: tensorboard<2.18,>=2.17 in /usr/local/lib/python3.10/dist-packages (from tensorflow) (2.17.1)\n",
            "Requirement already satisfied: keras>=3.2.0 in /usr/local/lib/python3.10/dist-packages (from tensorflow) (3.5.0)\n",
            "Requirement already satisfied: tensorflow-io-gcs-filesystem>=0.23.1 in /usr/local/lib/python3.10/dist-packages (from tensorflow) (0.37.1)\n",
            "Requirement already satisfied: numpy<2.0.0,>=1.23.5 in /usr/local/lib/python3.10/dist-packages (from tensorflow) (1.26.4)\n",
            "Requirement already satisfied: wheel<1.0,>=0.23.0 in /usr/local/lib/python3.10/dist-packages (from astunparse>=1.6.0->tensorflow) (0.45.1)\n",
            "Requirement already satisfied: rich in /usr/local/lib/python3.10/dist-packages (from keras>=3.2.0->tensorflow) (13.9.4)\n",
            "Requirement already satisfied: namex in /usr/local/lib/python3.10/dist-packages (from keras>=3.2.0->tensorflow) (0.0.8)\n",
            "Requirement already satisfied: optree in /usr/local/lib/python3.10/dist-packages (from keras>=3.2.0->tensorflow) (0.13.1)\n",
            "Requirement already satisfied: charset-normalizer<4,>=2 in /usr/local/lib/python3.10/dist-packages (from requests<3,>=2.21.0->tensorflow) (3.4.0)\n",
            "Requirement already satisfied: idna<4,>=2.5 in /usr/local/lib/python3.10/dist-packages (from requests<3,>=2.21.0->tensorflow) (3.10)\n",
            "Requirement already satisfied: urllib3<3,>=1.21.1 in /usr/local/lib/python3.10/dist-packages (from requests<3,>=2.21.0->tensorflow) (2.2.3)\n",
            "Requirement already satisfied: certifi>=2017.4.17 in /usr/local/lib/python3.10/dist-packages (from requests<3,>=2.21.0->tensorflow) (2024.8.30)\n",
            "Requirement already satisfied: markdown>=2.6.8 in /usr/local/lib/python3.10/dist-packages (from tensorboard<2.18,>=2.17->tensorflow) (3.7)\n",
            "Requirement already satisfied: tensorboard-data-server<0.8.0,>=0.7.0 in /usr/local/lib/python3.10/dist-packages (from tensorboard<2.18,>=2.17->tensorflow) (0.7.2)\n",
            "Requirement already satisfied: werkzeug>=1.0.1 in /usr/local/lib/python3.10/dist-packages (from tensorboard<2.18,>=2.17->tensorflow) (3.1.3)\n",
            "Requirement already satisfied: MarkupSafe>=2.1.1 in /usr/local/lib/python3.10/dist-packages (from werkzeug>=1.0.1->tensorboard<2.18,>=2.17->tensorflow) (3.0.2)\n",
            "Requirement already satisfied: markdown-it-py>=2.2.0 in /usr/local/lib/python3.10/dist-packages (from rich->keras>=3.2.0->tensorflow) (3.0.0)\n",
            "Requirement already satisfied: pygments<3.0.0,>=2.13.0 in /usr/local/lib/python3.10/dist-packages (from rich->keras>=3.2.0->tensorflow) (2.18.0)\n",
            "Requirement already satisfied: mdurl~=0.1 in /usr/local/lib/python3.10/dist-packages (from markdown-it-py>=2.2.0->rich->keras>=3.2.0->tensorflow) (0.1.2)\n",
            "Requirement already satisfied: keras in /usr/local/lib/python3.10/dist-packages (3.5.0)\n",
            "Requirement already satisfied: absl-py in /usr/local/lib/python3.10/dist-packages (from keras) (1.4.0)\n",
            "Requirement already satisfied: numpy in /usr/local/lib/python3.10/dist-packages (from keras) (1.26.4)\n",
            "Requirement already satisfied: rich in /usr/local/lib/python3.10/dist-packages (from keras) (13.9.4)\n",
            "Requirement already satisfied: namex in /usr/local/lib/python3.10/dist-packages (from keras) (0.0.8)\n",
            "Requirement already satisfied: h5py in /usr/local/lib/python3.10/dist-packages (from keras) (3.12.1)\n",
            "Requirement already satisfied: optree in /usr/local/lib/python3.10/dist-packages (from keras) (0.13.1)\n",
            "Requirement already satisfied: ml-dtypes in /usr/local/lib/python3.10/dist-packages (from keras) (0.4.1)\n",
            "Requirement already satisfied: packaging in /usr/local/lib/python3.10/dist-packages (from keras) (24.2)\n",
            "Requirement already satisfied: typing-extensions>=4.5.0 in /usr/local/lib/python3.10/dist-packages (from optree->keras) (4.12.2)\n",
            "Requirement already satisfied: markdown-it-py>=2.2.0 in /usr/local/lib/python3.10/dist-packages (from rich->keras) (3.0.0)\n",
            "Requirement already satisfied: pygments<3.0.0,>=2.13.0 in /usr/local/lib/python3.10/dist-packages (from rich->keras) (2.18.0)\n",
            "Requirement already satisfied: mdurl~=0.1 in /usr/local/lib/python3.10/dist-packages (from markdown-it-py>=2.2.0->rich->keras) (0.1.2)\n",
            "Requirement already satisfied: pandas in /usr/local/lib/python3.10/dist-packages (2.2.2)\n",
            "Requirement already satisfied: numpy>=1.22.4 in /usr/local/lib/python3.10/dist-packages (from pandas) (1.26.4)\n",
            "Requirement already satisfied: python-dateutil>=2.8.2 in /usr/local/lib/python3.10/dist-packages (from pandas) (2.8.2)\n",
            "Requirement already satisfied: pytz>=2020.1 in /usr/local/lib/python3.10/dist-packages (from pandas) (2024.2)\n",
            "Requirement already satisfied: tzdata>=2022.7 in /usr/local/lib/python3.10/dist-packages (from pandas) (2024.2)\n",
            "Requirement already satisfied: six>=1.5 in /usr/local/lib/python3.10/dist-packages (from python-dateutil>=2.8.2->pandas) (1.16.0)\n"
          ]
        }
      ],
      "source": [
        "!pip install Pillow\n",
        "!pip install numpy\n",
        "!pip install tensorflow\n",
        "!pip install keras\n",
        "!pip install pandas"
      ]
    },
    {
      "cell_type": "code",
      "execution_count": null,
      "metadata": {
        "colab": {
          "base_uri": "https://localhost:8080/"
        },
        "id": "NBBkktkpJy3P",
        "outputId": "02172e75-bebb-4c24-eef6-655e607ebec6"
      },
      "outputs": [
        {
          "name": "stdout",
          "output_type": "stream",
          "text": [
            "Drive already mounted at /content/drive; to attempt to forcibly remount, call drive.mount(\"/content/drive\", force_remount=True).\n",
            "완료\n"
          ]
        }
      ],
      "source": [
        "from PIL import Image\n",
        "import numpy as np\n",
        "import pandas as pd\n",
        "from google.colab import drive\n",
        "import os\n",
        "\n",
        "# Google Drive 마운트\n",
        "drive.mount('/content/drive')\n",
        "\n",
        "# 프로젝트 디렉토리 경로 설정 train 이미지, test 이미지\n",
        "train_image = '/content/drive/MyDrive/AI_SWU_PROJECT/trainN/train'\n",
        "test_image = '/content/drive/MyDrive/AI_SWU_PROJECT/processed_images/test/default_class'\n",
        "\n",
        "train_labels = pd.read_csv('/content/drive/MyDrive/AI_SWU_PROJECT/trainLabels.csv')\n",
        "\n",
        "\n",
        "\n",
        "print(\"완료\")\n"
      ]
    },
    {
      "cell_type": "code",
      "execution_count": null,
      "metadata": {
        "colab": {
          "base_uri": "https://localhost:8080/"
        },
        "collapsed": true,
        "id": "FMdT4_EDTeUu",
        "outputId": "1c57a951-497e-4762-d8df-5c9ab4c05ad7"
      },
      "outputs": [
        {
          "name": "stdout",
          "output_type": "stream",
          "text": [
            "총 10868개의 이미지를 로드합니다.\n",
            "100/10868 이미지 로드 완료...\n",
            "200/10868 이미지 로드 완료...\n",
            "300/10868 이미지 로드 완료...\n",
            "400/10868 이미지 로드 완료...\n",
            "500/10868 이미지 로드 완료...\n",
            "600/10868 이미지 로드 완료...\n",
            "700/10868 이미지 로드 완료...\n",
            "800/10868 이미지 로드 완료...\n",
            "900/10868 이미지 로드 완료...\n",
            "1000/10868 이미지 로드 완료...\n",
            "1100/10868 이미지 로드 완료...\n",
            "1200/10868 이미지 로드 완료...\n",
            "1300/10868 이미지 로드 완료...\n",
            "1400/10868 이미지 로드 완료...\n",
            "1500/10868 이미지 로드 완료...\n",
            "1600/10868 이미지 로드 완료...\n",
            "1700/10868 이미지 로드 완료...\n",
            "1800/10868 이미지 로드 완료...\n",
            "1900/10868 이미지 로드 완료...\n",
            "2000/10868 이미지 로드 완료...\n",
            "2100/10868 이미지 로드 완료...\n",
            "2200/10868 이미지 로드 완료...\n",
            "2300/10868 이미지 로드 완료...\n",
            "2400/10868 이미지 로드 완료...\n",
            "2500/10868 이미지 로드 완료...\n",
            "2600/10868 이미지 로드 완료...\n",
            "2700/10868 이미지 로드 완료...\n",
            "2800/10868 이미지 로드 완료...\n",
            "2900/10868 이미지 로드 완료...\n",
            "3000/10868 이미지 로드 완료...\n",
            "3100/10868 이미지 로드 완료...\n",
            "3200/10868 이미지 로드 완료...\n",
            "3300/10868 이미지 로드 완료...\n",
            "3400/10868 이미지 로드 완료...\n",
            "3500/10868 이미지 로드 완료...\n",
            "3600/10868 이미지 로드 완료...\n",
            "3700/10868 이미지 로드 완료...\n",
            "3800/10868 이미지 로드 완료...\n",
            "3900/10868 이미지 로드 완료...\n",
            "4000/10868 이미지 로드 완료...\n",
            "4100/10868 이미지 로드 완료...\n",
            "4200/10868 이미지 로드 완료...\n",
            "4300/10868 이미지 로드 완료...\n",
            "4400/10868 이미지 로드 완료...\n",
            "4500/10868 이미지 로드 완료...\n",
            "4600/10868 이미지 로드 완료...\n",
            "4700/10868 이미지 로드 완료...\n",
            "4800/10868 이미지 로드 완료...\n",
            "4900/10868 이미지 로드 완료...\n",
            "5000/10868 이미지 로드 완료...\n",
            "5100/10868 이미지 로드 완료...\n",
            "5200/10868 이미지 로드 완료...\n",
            "5300/10868 이미지 로드 완료...\n",
            "5400/10868 이미지 로드 완료...\n",
            "5500/10868 이미지 로드 완료...\n",
            "5600/10868 이미지 로드 완료...\n",
            "5700/10868 이미지 로드 완료...\n",
            "5800/10868 이미지 로드 완료...\n",
            "5900/10868 이미지 로드 완료...\n",
            "6000/10868 이미지 로드 완료...\n",
            "6100/10868 이미지 로드 완료...\n",
            "6200/10868 이미지 로드 완료...\n",
            "6300/10868 이미지 로드 완료...\n",
            "6400/10868 이미지 로드 완료...\n",
            "6500/10868 이미지 로드 완료...\n",
            "6600/10868 이미지 로드 완료...\n",
            "6700/10868 이미지 로드 완료...\n",
            "6800/10868 이미지 로드 완료...\n",
            "6900/10868 이미지 로드 완료...\n",
            "7000/10868 이미지 로드 완료...\n",
            "7100/10868 이미지 로드 완료...\n",
            "7200/10868 이미지 로드 완료...\n",
            "7300/10868 이미지 로드 완료...\n",
            "7400/10868 이미지 로드 완료...\n",
            "7500/10868 이미지 로드 완료...\n",
            "7600/10868 이미지 로드 완료...\n",
            "7700/10868 이미지 로드 완료...\n",
            "7800/10868 이미지 로드 완료...\n",
            "7900/10868 이미지 로드 완료...\n",
            "8000/10868 이미지 로드 완료...\n",
            "8100/10868 이미지 로드 완료...\n",
            "8200/10868 이미지 로드 완료...\n",
            "8300/10868 이미지 로드 완료...\n",
            "8400/10868 이미지 로드 완료...\n",
            "8500/10868 이미지 로드 완료...\n",
            "8600/10868 이미지 로드 완료...\n",
            "8700/10868 이미지 로드 완료...\n",
            "8800/10868 이미지 로드 완료...\n",
            "8900/10868 이미지 로드 완료...\n",
            "9000/10868 이미지 로드 완료...\n",
            "9100/10868 이미지 로드 완료...\n",
            "9200/10868 이미지 로드 완료...\n",
            "9300/10868 이미지 로드 완료...\n",
            "9400/10868 이미지 로드 완료...\n",
            "9500/10868 이미지 로드 완료...\n",
            "9600/10868 이미지 로드 완료...\n",
            "9700/10868 이미지 로드 완료...\n",
            "9800/10868 이미지 로드 완료...\n",
            "9900/10868 이미지 로드 완료...\n",
            "10000/10868 이미지 로드 완료...\n",
            "10100/10868 이미지 로드 완료...\n",
            "10200/10868 이미지 로드 완료...\n",
            "10300/10868 이미지 로드 완료...\n",
            "10400/10868 이미지 로드 완료...\n",
            "10500/10868 이미지 로드 완료...\n",
            "10600/10868 이미지 로드 완료...\n",
            "10700/10868 이미지 로드 완료...\n",
            "10800/10868 이미지 로드 완료...\n",
            "10868/10868 이미지 로드 완료...\n",
            "이미지 로딩 완료.\n"
          ]
        }
      ],
      "source": [
        "from skimage.transform import resize\n",
        "from skimage.io import imread\n",
        "\n",
        "\n",
        "#label 로드\n",
        "train_labels = pd.read_csv(\"/content/drive/MyDrive/AI_SWU_PROJECT/trainLabels.csv\")\n",
        "labels=train_labels['Class'].values\n",
        "\n",
        "# 이미지 및 라벨 로딩 함수\n",
        "def load_images_with_labels(image_dir, labels_df, target_size=(64, 64)):\n",
        "    images = []\n",
        "    labels = []\n",
        "    total = len(labels_df)  # 총 이미지 개수\n",
        "    print(f\"총 {total}개의 이미지를 로드합니다.\")\n",
        "\n",
        "    for idx, row in enumerate(labels_df.iterrows(), start=1):\n",
        "        img_name = row[1]['Id']\n",
        "        label = row[1]['Class']\n",
        "        img_path = os.path.join(image_dir, img_name + '.png')\n",
        "\n",
        "        if os.path.exists(img_path):\n",
        "            img = imread(img_path)  # 흑백 이미지로 로드\n",
        "            img_resized = resize(img, target_size, anti_aliasing=True)  # 크기 고정 64*64\n",
        "            img_flatten = img_resized.flatten()  # flatten\n",
        "            images.append(img_flatten)\n",
        "            labels.append(label)\n",
        "\n",
        "        # 진행 상황 출력\n",
        "        if idx % 100 == 0 or idx == total:  # 100개마다 혹은 마지막 파일에서 출력\n",
        "            print(f\"{idx}/{total} 이미지 로드 완료...\")\n",
        "\n",
        "    print(\"이미지 로딩 완료.\")\n",
        "    return np.array(images), np.array(labels)\n",
        "\n",
        "# 로딩 및 라벨 매핑\n",
        "train_images, train_labels = load_images_with_labels(train_image, train_labels, target_size=(64, 64))\n"
      ]
    },
    {
      "cell_type": "markdown",
      "metadata": {
        "id": "E43TcH8t6hYY"
      },
      "source": [
        "### 바이트 파일 형태\n"
      ]
    },
    {
      "cell_type": "code",
      "execution_count": null,
      "metadata": {
        "colab": {
          "base_uri": "https://localhost:8080/"
        },
        "id": "D84XQxlY5f5d",
        "outputId": "b17e16bc-8419-44e3-ce79-4dbca605f5c5"
      },
      "outputs": [
        {
          "name": "stdout",
          "output_type": "stream",
          "text": [
            "첫 10줄 출력:\n",
            "00401000 C7 01 24 04 5C 00 E9 D6 4A 00 00 CC CC CC CC CC\n",
            "00401010 56 8B F1 C7 06 24 04 5C 00 E8 C3 4A 00 00 F6 44\n",
            "00401020 24 08 01 74 09 56 E8 4B 4B 00 00 83 C4 04 8B C6\n",
            "00401030 5E C2 04 00 CC CC CC CC CC CC CC CC CC CC CC CC\n",
            "00401040 33 C0 C2 10 00 CC CC CC CC CC CC CC CC CC CC CC\n",
            "00401050 8A 51 3A 20 51 14 8B 41 10 2D FF E3 00 00 89 41\n",
            "00401060 68 8A 41 21 B2 BA 2A 51 78 04 4A 88 51 28 8B 51\n",
            "00401070 44 88 41 6D B8 35 01 00 00 81 E2 AC 00 00 00 66\n",
            "00401080 89 41 52 C7 41 18 3F 00 00 00 C7 41 34 AC 00 00\n",
            "00401090 00 C7 41 2C 76 01 00 00 89 51 40 B8 02 00 00 00\n",
            "\n"
          ]
        }
      ],
      "source": [
        "# 파일 읽기\n",
        "file_path = '/content/drive/MyDrive/AI_SWU_PROJECT/trainN/train/01IsoiSMh5gxyDYTl4CB.bytes'\n",
        "\n",
        "# 파일 내용을 확인 (텍스트로 읽기)\n",
        "with open(file_path, 'r') as f:\n",
        "    lines = f.readlines()\n",
        "\n",
        "print(\"첫 10줄 출력:\")\n",
        "print(''.join(lines[:10]))\n"
      ]
    },
    {
      "cell_type": "code",
      "execution_count": null,
      "metadata": {
        "id": "Ha_zhLmxoLpu"
      },
      "outputs": [],
      "source": [
        "train_image = '/content/drive/MyDrive/AI_SWU_PROJECT/trainN/image'\n",
        "\n",
        "train_images = np.load('/content/drive/MyDrive/AI_SWU_PROJECT/trainN/train_images_n.npy')\n",
        "#test_images = np.load('/content/drive/MyDrive/AI_SWU_PROJECT/trainN/test_images.npy')"
      ]
    },
    {
      "cell_type": "code",
      "execution_count": null,
      "metadata": {
        "colab": {
          "base_uri": "https://localhost:8080/"
        },
        "id": "7-eZdJyL18Rl",
        "outputId": "e4b14806-e09e-440d-c910-53b3737e424a"
      },
      "outputs": [
        {
          "name": "stdout",
          "output_type": "stream",
          "text": [
            "(10868, 4096)\n"
          ]
        }
      ],
      "source": [
        "print(train_images.shape)"
      ]
    },
    {
      "cell_type": "code",
      "execution_count": null,
      "metadata": {
        "id": "XGSRZnrNWMbi"
      },
      "outputs": [],
      "source": [
        "from skimage.transform import resize\n",
        "from skimage.io import imread\n",
        "import numpy as np\n",
        "import matplotlib.pyplot as plt\n",
        "\n",
        "# 하나의 이미지 로딩 및 flatten 비교 함수\n",
        "def load_and_compare_image(image_path, target_size=(64, 64)):\n",
        "    img = imread(image_path)  # 이미지 로드 (흑백 이미지로 읽기)\n",
        "    img_resized = resize(img, target_size, anti_aliasing=True)  # 크기 고정 64x64\n",
        "\n",
        "    # flatten 이전의 이미지 출력 (2D)\n",
        "    print(f\"flatten 이전 이미지 크기: {img_resized.shape}\")\n",
        "    plt.figure(figsize=(4, 4))\n",
        "    plt.imshow(img_resized, cmap='gray')\n",
        "    plt.title(\"Before Flatten\")\n",
        "    plt.show()\n",
        "\n",
        "    img_flatten = img_resized.flatten()  # flatten\n",
        "\n",
        "    # flatten 이후의 이미지 출력 (1D)\n",
        "    print(f\"flatten 이후 이미지 크기: {img_flatten.shape}\")\n",
        "    plt.figure(figsize=(4, 4))\n",
        "    plt.plot(img_flatten)  # 1D 배열을 플로팅 (픽셀값을 선으로 표현)\n",
        "    plt.title(\"After Flatten\")\n",
        "    plt.show()\n",
        "\n",
        "    return img_flatten  # flatten된 이미지 반환\n",
        "\n",
        "# 사용 예시: 하나의 이미지 로드 및 비교\n",
        "image_path = '/path/to/image.png'  # 이미지 파일 경로\n",
        "flattened_image = load_and_compare_image(image_path, target_size=(64, 64))\n"
      ]
    },
    {
      "cell_type": "markdown",
      "metadata": {
        "id": "xiKP0C2MG8fO"
      },
      "source": [
        "# 데이터셋 소개"
      ]
    },
    {
      "cell_type": "code",
      "execution_count": null,
      "metadata": {
        "colab": {
          "base_uri": "https://localhost:8080/",
          "height": 399
        },
        "id": "p9YWZ9ADHBNG",
        "outputId": "caf00ec1-9c7a-4d9a-a374-ef4383665f2d"
      },
      "outputs": [
        {
          "data": {
            "image/png": "[encoded data removed]",
            "text/plain": [
              "<Figure size 1000x600 with 1 Axes>"
            ]
          },
          "metadata": {},
          "output_type": "display_data"
        }
      ],
      "source": [
        "import pandas as pd\n",
        "import matplotlib.pyplot as plt\n",
        "\n",
        "\n",
        "# 클래스별 샘플 개수 세기\n",
        "class_counts = train_labels['Class'].value_counts().sort_index()\n",
        "\n",
        "# 악성코드 패밀리 이름 정의\n",
        "class_names = {\n",
        "    1: 'Ramnit',\n",
        "    2: 'Lollipop',\n",
        "    3: 'Kelihos_ver3',\n",
        "    4: 'Vundo',\n",
        "    5: 'Simda',\n",
        "    6: 'Tracur',\n",
        "    7: 'Kelihos_ver1',\n",
        "    8: 'Obfuscator.ACY',\n",
        "    9: 'Gatak'\n",
        "}\n",
        "\n",
        "# 클래스 레이블을 악성코드 패밀리 이름으로 변환\n",
        "class_counts.index = class_counts.index.map(class_names)\n",
        "\n",
        "# 시각화\n",
        "plt.figure(figsize=(10, 6))\n",
        "class_counts.plot(kind='bar', color='skyblue')\n",
        "plt.title('Malware Family Distribution in Train Dataset')\n",
        "plt.xlabel('Malware Family')\n",
        "plt.ylabel('Number of Samples')\n",
        "plt.xticks(rotation=45)\n",
        "plt.tight_layout()\n",
        "plt.show()\n"
      ]
    },
    {
      "cell_type": "markdown",
      "metadata": {
        "id": "JwJF3juZXzHd"
      },
      "source": [
        "# 모델 정의\n",
        "\n",
        "- 목표 : train과 train 데이터에 대한 label을 학습한 모델로 test 데이터의 label을 예측하는 악성코드 패밀리 분류 모델을 만든다.\n",
        "\n",
        "64*64 사이즈의 그레이스케일 이미지를 활용.\n",
        "- train_images : 10868개\n",
        "- test_images : 10873개\n",
        "- train_labels : train 데이터에 대한 label. 각 train 이미지가 어떤 악성코드 패밀리에 속하는지 표현됨.\n",
        "\n"
      ]
    },
    {
      "cell_type": "markdown",
      "metadata": {
        "id": "olNiZdGTXTNt"
      },
      "source": [
        "# 모델 훈련 및 평가\n",
        "\n",
        "- Random Forest\n",
        "- Gradient Boosting\n",
        "- XGBoost\n",
        "- LightGBM\n",
        "\n",
        "4가지 모델을 학습 및 훈련, 평가 결과 비교\n",
        "최종적으로 label이 없는 test_image 데이터에 대해서 예측한 결과를 서로 비교하고 최적의 이미지 기반 악성코드 패밀리 분류 머신러닝 모델을 탐색하고자 함."
      ]
    },
    {
      "cell_type": "markdown",
      "metadata": {
        "id": "xqcJI5g2sars"
      },
      "source": [
        "결과 지표 해석\n",
        "- `precision` : 정밀도. 악성코드로 예측된 파일 중 실제로 악성코드인 비율.\n",
        "- `Recall` : 재현율. 실제 악성코드 중 모델이 탐지한 비율.\n",
        "- `F1-score` :  Precision과 Recall 사이의 균형을 평가.\n",
        "특정 클래스에서 Precision과 Recall 중 하나가 극단적으로 낮을 때 보완 지표로 사용.\n",
        "- `Support` : 각 데이터 샘플 개수\n",
        "- `Accuracy` : 모델 정확도. 클래스 불균형이 심하면 신뢰하기 어려울 수 있음.\n",
        "- `Macro Avg` : 각 클래스의 Precision, Recall, F1-Score를 개별적으로 계산한 뒤, 평균을 냄, 클래스 불균형에 민감하며, 모든 클래스를 동등하게 취급.\n",
        "- `Weighted Avg` : 클래스 불균형을 완화해, Precision, Recall, F1-Score를 클래스별 데이터 샘플 개수로 가중평균"
      ]
    },
    {
      "cell_type": "markdown",
      "metadata": {
        "id": "HF4uYugeDy0_"
      },
      "source": [
        "## 랜덤포레스트 모델"
      ]
    },
    {
      "cell_type": "code",
      "execution_count": null,
      "metadata": {
        "colab": {
          "base_uri": "https://localhost:8080/"
        },
        "id": "bfr5-3kFI_6S",
        "outputId": "09cb98cd-c44c-49ec-f665-babf03159e48"
      },
      "outputs": [
        {
          "name": "stdout",
          "output_type": "stream",
          "text": [
            "모델 훈련 중\n",
            "Train Score: 1.0\n",
            "Validation Score: 0.9615834795204578\n",
            "Accuracy on validation set: 0.9660\n",
            "              precision    recall  f1-score   support\n",
            "\n",
            "           1       0.91      0.98      0.94       314\n",
            "           2       0.98      0.97      0.97       486\n",
            "           3       1.00      1.00      1.00       594\n",
            "           4       0.93      0.97      0.95        87\n",
            "           5       0.83      0.71      0.77         7\n",
            "           6       0.93      0.88      0.90       135\n",
            "           7       1.00      0.99      0.99        87\n",
            "           8       0.99      0.90      0.94       249\n",
            "           9       0.95      0.99      0.97       215\n",
            "\n",
            "    accuracy                           0.97      2174\n",
            "   macro avg       0.95      0.93      0.94      2174\n",
            "weighted avg       0.97      0.97      0.97      2174\n",
            "\n",
            "총 걸린 시간: 31.2199 초\n"
          ]
        }
      ],
      "source": [
        "from sklearn.model_selection import train_test_split, cross_validate\n",
        "from sklearn.metrics import accuracy_score, classification_report\n",
        "from sklearn.ensemble import RandomForestClassifier\n",
        "import time\n",
        "\n",
        "# 훈련 데이터 분할\n",
        "X_train, X_val, y_train, y_val = train_test_split(train_images, train_labels['Class'], test_size=0.2, random_state=42)\n",
        "\n",
        "start_time = time.time()\n",
        "\n",
        "# 랜덤포레스트 모델 훈련\n",
        "print(\"모델 훈련 중\")\n",
        "rf = RandomForestClassifier(n_jobs=-1, random_state=42, class_weight='balanced')\n",
        "scores = cross_validate(rf, X_train, y_train, cv=5, return_train_score=True, n_jobs=-1)\n",
        "\n",
        "\n",
        "print(\"Train Score:\", np.mean(scores['train_score']))\n",
        "print(\"Validation Score:\", np.mean(scores['test_score']))\n",
        "\n",
        "rf.fit(X_train, y_train)\n",
        "\n",
        "# 검증 데이터에 대한 예측\n",
        "y_val_pred = rf.predict(X_val)\n",
        "\n",
        "# 성능 평가\n",
        "accuracy = accuracy_score(y_val, y_val_pred)\n",
        "print(f\"Accuracy on validation set: {accuracy:.4f}\")\n",
        "print(classification_report(y_val, y_val_pred))\n",
        "\n",
        "end_time = time.time()\n",
        "# 전체 훈련 및 예측에 걸린 시간\n",
        "elapsed_time = end_time - start_time\n",
        "print(f\"총 걸린 시간: {elapsed_time:.4f} 초\")\n"
      ]
    },
    {
      "cell_type": "code",
      "execution_count": null,
      "metadata": {
        "colab": {
          "base_uri": "https://localhost:8080/"
        },
        "id": "qrPtm0WGHSew",
        "outputId": "8d36266a-5525-446f-8d63-66e9b0e3ec23"
      },
      "outputs": [
        {
          "name": "stdout",
          "output_type": "stream",
          "text": [
            "모델 훈련 중\n",
            "Train Score: 1.0\n",
            "Validation Score: 0.9538765119696981\n",
            "Accuracy on validation set: 0.9637\n",
            "              precision    recall  f1-score   support\n",
            "\n",
            "           1       0.86      0.99      0.92       314\n",
            "           2       1.00      0.97      0.98       486\n",
            "           3       1.00      1.00      1.00       594\n",
            "           4       0.95      0.93      0.94        87\n",
            "           5       0.00      0.00      0.00         7\n",
            "           6       0.97      0.90      0.93       135\n",
            "           7       0.99      0.97      0.98        87\n",
            "           8       0.96      0.90      0.93       249\n",
            "           9       0.98      0.98      0.98       215\n",
            "\n",
            "    accuracy                           0.96      2174\n",
            "   macro avg       0.86      0.85      0.85      2174\n",
            "weighted avg       0.96      0.96      0.96      2174\n",
            "\n",
            "총 걸린 시간: 5.6030 초\n"
          ]
        }
      ],
      "source": [
        "from sklearn.decomposition import PCA\n",
        "from sklearn.model_selection import train_test_split, cross_validate\n",
        "from sklearn.metrics import accuracy_score, classification_report\n",
        "from sklearn.ensemble import RandomForestClassifier\n",
        "import time\n",
        "\n",
        "\n",
        "# PCA로 차원 축소\n",
        "pca = PCA(n_components=50)\n",
        "train_pca = pca.fit_transform(train_images)  # 훈련 데이터에 대해 PCA 적용\n",
        "\n",
        "\n",
        "# 훈련 데이터 분할\n",
        "X_train, X_val, y_train, y_val = train_test_split(train_pca, train_labels['Class'], test_size=0.2, random_state=42)\n",
        "\n",
        "start_time = time.time()\n",
        "\n",
        "# 랜덤포레스트 모델 훈련\n",
        "print(\"모델 훈련 중\")\n",
        "rf = RandomForestClassifier(n_jobs=-1, random_state=42, class_weight='balanced')\n",
        "scores = cross_validate(rf, X_train, y_train, cv=5, return_train_score=True, n_jobs=-1)\n",
        "\n",
        "\n",
        "print(\"Train Score:\", np.mean(scores['train_score']))\n",
        "print(\"Validation Score:\", np.mean(scores['test_score']))\n",
        "\n",
        "rf.fit(X_train, y_train)\n",
        "\n",
        "# 검증 데이터에 대한 예측\n",
        "y_val_pred = rf.predict(X_val)\n",
        "\n",
        "# 성능 평가\n",
        "accuracy = accuracy_score(y_val, y_val_pred)\n",
        "print(f\"Accuracy on validation set: {accuracy:.4f}\")\n",
        "print(classification_report(y_val, y_val_pred))\n",
        "\n",
        "end_time = time.time()\n",
        "# 전체 훈련 및 예측에 걸린 시간\n",
        "elapsed_time = end_time - start_time\n",
        "print(f\"총 걸린 시간: {elapsed_time:.4f} 초\")\n"
      ]
    },
    {
      "cell_type": "code",
      "execution_count": null,
      "metadata": {
        "colab": {
          "base_uri": "https://localhost:8080/"
        },
        "id": "jHYpslha4w7M",
        "outputId": "a8c94a9c-9d80-48c5-9472-4bfeffbde5ec"
      },
      "outputs": [
        {
          "name": "stdout",
          "output_type": "stream",
          "text": [
            "(10868, 4096)\n",
            "(10868, 50)\n"
          ]
        }
      ],
      "source": [
        "print(train_images.shape)\n",
        "print(train_pca.shape)"
      ]
    },
    {
      "cell_type": "code",
      "execution_count": null,
      "metadata": {
        "colab": {
          "base_uri": "https://localhost:8080/"
        },
        "id": "iKP3eMmnUcLC",
        "outputId": "2a59e6ce-bbd0-4dd0-c6b5-73db60d87968"
      },
      "outputs": [
        {
          "name": "stdout",
          "output_type": "stream",
          "text": [
            "모델 훈련 중\n",
            "Train Score: 1.0\n",
            "Validation Score: 0.9556022369111515\n",
            "Accuracy on validation set: 0.9660\n",
            "              precision    recall  f1-score   support\n",
            "\n",
            "           1       0.88      0.99      0.93       314\n",
            "           2       0.99      0.97      0.98       486\n",
            "           3       0.99      1.00      0.99       594\n",
            "           4       0.98      0.93      0.95        87\n",
            "           5       0.00      0.00      0.00         7\n",
            "           6       0.97      0.92      0.94       135\n",
            "           7       0.99      0.98      0.98        87\n",
            "           8       0.97      0.90      0.93       249\n",
            "           9       0.98      0.98      0.98       215\n",
            "\n",
            "    accuracy                           0.97      2174\n",
            "   macro avg       0.86      0.85      0.85      2174\n",
            "weighted avg       0.96      0.97      0.96      2174\n",
            "\n",
            "총 걸린 시간: 5.1514 초\n"
          ]
        },
        {
          "name": "stderr",
          "output_type": "stream",
          "text": [
            "/usr/local/lib/python3.10/dist-packages/sklearn/metrics/_classification.py:1531: UndefinedMetricWarning: Precision is ill-defined and being set to 0.0 in labels with no predicted samples. Use `zero_division` parameter to control this behavior.\n",
            "  _warn_prf(average, modifier, f\"{metric.capitalize()} is\", len(result))\n",
            "/usr/local/lib/python3.10/dist-packages/sklearn/metrics/_classification.py:1531: UndefinedMetricWarning: Precision is ill-defined and being set to 0.0 in labels with no predicted samples. Use `zero_division` parameter to control this behavior.\n",
            "  _warn_prf(average, modifier, f\"{metric.capitalize()} is\", len(result))\n",
            "/usr/local/lib/python3.10/dist-packages/sklearn/metrics/_classification.py:1531: UndefinedMetricWarning: Precision is ill-defined and being set to 0.0 in labels with no predicted samples. Use `zero_division` parameter to control this behavior.\n",
            "  _warn_prf(average, modifier, f\"{metric.capitalize()} is\", len(result))\n"
          ]
        }
      ],
      "source": [
        "from sklearn.decomposition import PCA\n",
        "from sklearn.preprocessing import StandardScaler\n",
        "from sklearn.model_selection import train_test_split, cross_validate\n",
        "from sklearn.metrics import accuracy_score, classification_report\n",
        "from sklearn.ensemble import RandomForestClassifier\n",
        "import time\n",
        "\n",
        "# 데이터 스케일링\n",
        "scaler = StandardScaler()\n",
        "train_images_scaled = scaler.fit_transform(train_images)\n",
        "\n",
        "# PCA로 차원 축소\n",
        "pca = PCA(n_components=50)\n",
        "train_pca = pca.fit_transform(train_images_scaled)  # 훈련 데이터에 대해 PCA 적용\n",
        "\n",
        "\n",
        "# 훈련 데이터 분할\n",
        "X_train, X_val, y_train, y_val = train_test_split(train_pca, train_labels['Class'], test_size=0.2, random_state=42)\n",
        "\n",
        "start_time = time.time()\n",
        "\n",
        "# 랜덤포레스트 모델 훈련\n",
        "print(\"모델 훈련 중\")\n",
        "rf = RandomForestClassifier(n_jobs=-1, random_state=42, class_weight='balanced')\n",
        "scores = cross_validate(rf, X_train, y_train, cv=5, return_train_score=True, n_jobs=-1)\n",
        "\n",
        "\n",
        "print(\"Train Score:\", np.mean(scores['train_score']))\n",
        "print(\"Validation Score:\", np.mean(scores['test_score']))\n",
        "\n",
        "rf.fit(X_train, y_train)\n",
        "\n",
        "# 검증 데이터에 대한 예측\n",
        "y_val_pred = rf.predict(X_val)\n",
        "\n",
        "# 성능 평가\n",
        "accuracy = accuracy_score(y_val, y_val_pred)\n",
        "print(f\"Accuracy on validation set: {accuracy:.4f}\")\n",
        "print(classification_report(y_val, y_val_pred))\n",
        "\n",
        "end_time = time.time()\n",
        "# 전체 훈련 및 예측에 걸린 시간\n",
        "elapsed_time = end_time - start_time\n",
        "print(f\"총 걸린 시간: {elapsed_time:.4f} 초\")\n"
      ]
    },
    {
      "cell_type": "markdown",
      "metadata": {
        "id": "7LWQuG-0U_Bc"
      },
      "source": [
        "1. **PCA와 스케일링을 모두 적용하지 않은 경우** : 모델 성능이 3가지 중 가장 높고, 데이터수가 가장 적은 클래스 5에 대한 지표가 0이 나오지 않음. 대신 모델 훈련 및 예측, 성능 평가까지 걸린 시간이 약 4분으로 가장 길었음.\n",
        "\n",
        "\n",
        "2. PCA만 적용한 경우 : 클래스 5에 대한 지표가 0이 나옴. 모델 훈련 및 예측, 성능 평가까지 걸린 시간이 33초정도로 빠른 속도를 보임.\n",
        "\n",
        "3. PCA, 스케일링 모두 적용 : 클래스 5에 대한 지표가 0, 모델 훈련 및 예측, 성능 평가까지 걸린 시간이 39초 정도로 빠른 속도.\n",
        "\n",
        "결론 : PCA, 스케일링을 적용하면 속도는 빠르지만 모델의 정확도가 낮아짐.\n",
        "- PCA는 중요한 특성을 잃을 수 있어, 클래스 5 같은 케이스에서 성능 저하가 발생할 수 있음.\n",
        "- PCA와 스케일링을 동시 적용하면, 중요한 특성을 잃고, 데이터 분포 왜곡 또한 발생할 수 있음 -> 성능 저하 발생\n",
        "\n",
        "클래스 불균형으로 인한 성능 저하를 n_components 값을 증가시키거나, Grid Search, Random Search, SMOTE 등의 방법으로 해결해보고자 함."
      ]
    },
    {
      "cell_type": "markdown",
      "metadata": {
        "id": "RECY_g-MCB15"
      },
      "source": [
        "## 성능 향상\n"
      ]
    },
    {
      "cell_type": "markdown",
      "metadata": {
        "id": "fLBTs0tzCDu5"
      },
      "source": [
        "### GridSearch(랜덤포레스트)"
      ]
    },
    {
      "cell_type": "code",
      "execution_count": null,
      "metadata": {
        "colab": {
          "base_uri": "https://localhost:8080/"
        },
        "id": "5Dg6xK0q81up",
        "outputId": "30ed24e6-70a5-4615-e311-6e5b62da18d1"
      },
      "outputs": [
        {
          "name": "stdout",
          "output_type": "stream",
          "text": [
            "Best parameters: {'max_depth': None, 'min_samples_leaf': 1, 'min_samples_split': 2, 'n_estimators': 200}\n"
          ]
        }
      ],
      "source": [
        "from sklearn.model_selection import GridSearchCV\n",
        "from sklearn.ensemble import RandomForestClassifier\n",
        "from sklearn.model_selection import train_test_split\n",
        "from sklearn.metrics import accuracy_score, classification_report\n",
        "from sklearn.decomposition import PCA\n",
        "\n",
        "\n",
        "# PCA로 차원 축소\n",
        "pca = PCA(n_components=50)\n",
        "train_pca = pca.fit_transform(train_images)  # 훈련 데이터에 대해 PCA 적용\n",
        "\n",
        "# 훈련 데이터 분할\n",
        "X_train, X_val, y_train, y_val = train_test_split(\n",
        "    train_pca, train_labels['Class'], test_size=0.2, random_state=42)\n",
        "\n",
        "param_grid = {\n",
        "    'n_estimators': [100, 200],\n",
        "    'max_depth': [10, 20, None],\n",
        "    'min_samples_split': [2, 5],\n",
        "    'min_samples_leaf': [1, 2]\n",
        "}\n",
        "\n",
        "grid_search = GridSearchCV(RandomForestClassifier(n_jobs=-1, random_state=42),\n",
        "                           param_grid, cv=5, n_jobs=-1, scoring='accuracy')\n",
        "grid_search.fit(X_train, y_train)\n",
        "print(\"Best parameters:\", grid_search.best_params_)\n"
      ]
    },
    {
      "cell_type": "code",
      "execution_count": null,
      "metadata": {
        "colab": {
          "base_uri": "https://localhost:8080/"
        },
        "id": "qLYF43y430EE",
        "outputId": "25d0524a-4cd2-4894-cd6e-832551a90afc"
      },
      "outputs": [
        {
          "name": "stdout",
          "output_type": "stream",
          "text": [
            "검증 데이터에 대한 정확도: 0.9669\n",
            "              precision    recall  f1-score   support\n",
            "\n",
            "           1       0.88      0.99      0.93       314\n",
            "           2       0.99      0.97      0.98       486\n",
            "           3       1.00      1.00      1.00       594\n",
            "           4       0.93      0.94      0.94        87\n",
            "           5       0.50      0.14      0.22         7\n",
            "           6       0.96      0.91      0.94       135\n",
            "           7       0.99      0.99      0.99        87\n",
            "           8       0.96      0.90      0.93       249\n",
            "           9       0.98      0.99      0.98       215\n",
            "\n",
            "    accuracy                           0.97      2174\n",
            "   macro avg       0.91      0.87      0.88      2174\n",
            "weighted avg       0.97      0.97      0.97      2174\n",
            "\n"
          ]
        }
      ],
      "source": [
        "#그리드서치 결과 기반 최적 모델 훈련\n",
        "rf_best = grid_search.best_estimator_\n",
        "\n",
        "# 검증 데이터에 대한 예측\n",
        "y_val_pred = rf_best.predict(X_val)\n",
        "\n",
        "# 성능 평가\n",
        "accuracy = accuracy_score(y_val, y_val_pred)\n",
        "print(f\"검증 데이터에 대한 정확도: {accuracy:.4f}\")\n",
        "print(classification_report(y_val, y_val_pred))\n"
      ]
    },
    {
      "cell_type": "markdown",
      "metadata": {
        "id": "vPoYHm_dCHFs"
      },
      "source": [
        "### Random Search(랜덤포레스트)"
      ]
    },
    {
      "cell_type": "code",
      "execution_count": null,
      "metadata": {
        "colab": {
          "base_uri": "https://localhost:8080/"
        },
        "id": "Vx80yBJsCp-u",
        "outputId": "58930956-b301-44f4-90e3-8e6295f1c08b"
      },
      "outputs": [
        {
          "name": "stdout",
          "output_type": "stream",
          "text": [
            "Best parameters:  {'n_estimators': 200, 'min_samples_split': 8, 'min_samples_leaf': 4, 'max_features': 'sqrt', 'max_depth': 10, 'bootstrap': False}\n",
            "검증 데이터에 대한 정확도: 0.9522\n",
            "              precision    recall  f1-score   support\n",
            "\n",
            "           1       0.83      0.99      0.90       314\n",
            "           2       0.99      0.96      0.97       486\n",
            "           3       1.00      1.00      1.00       594\n",
            "           4       0.94      0.93      0.94        87\n",
            "           5       0.00      0.00      0.00         7\n",
            "           6       0.93      0.85      0.89       135\n",
            "           7       1.00      0.95      0.98        87\n",
            "           8       0.96      0.87      0.91       249\n",
            "           9       0.94      0.97      0.95       215\n",
            "\n",
            "    accuracy                           0.95      2174\n",
            "   macro avg       0.84      0.83      0.84      2174\n",
            "weighted avg       0.95      0.95      0.95      2174\n",
            "\n"
          ]
        },
        {
          "name": "stderr",
          "output_type": "stream",
          "text": [
            "/usr/local/lib/python3.10/dist-packages/sklearn/metrics/_classification.py:1531: UndefinedMetricWarning: Precision is ill-defined and being set to 0.0 in labels with no predicted samples. Use `zero_division` parameter to control this behavior.\n",
            "  _warn_prf(average, modifier, f\"{metric.capitalize()} is\", len(result))\n",
            "/usr/local/lib/python3.10/dist-packages/sklearn/metrics/_classification.py:1531: UndefinedMetricWarning: Precision is ill-defined and being set to 0.0 in labels with no predicted samples. Use `zero_division` parameter to control this behavior.\n",
            "  _warn_prf(average, modifier, f\"{metric.capitalize()} is\", len(result))\n",
            "/usr/local/lib/python3.10/dist-packages/sklearn/metrics/_classification.py:1531: UndefinedMetricWarning: Precision is ill-defined and being set to 0.0 in labels with no predicted samples. Use `zero_division` parameter to control this behavior.\n",
            "  _warn_prf(average, modifier, f\"{metric.capitalize()} is\", len(result))\n"
          ]
        }
      ],
      "source": [
        "from sklearn.model_selection import RandomizedSearchCV\n",
        "from sklearn.ensemble import RandomForestClassifier\n",
        "import numpy as np\n",
        "\n",
        "# PCA로 차원 축소\n",
        "pca = PCA(n_components=50)\n",
        "train_pca = pca.fit_transform(train_images)  # 훈련 데이터에 대해 PCA 적용\n",
        "\n",
        "# 훈련 데이터 분할\n",
        "X_train, X_val, y_train, y_val = train_test_split(train_pca, train_labels['Class'], test_size=0.2, random_state=42)\n",
        "\n",
        "# 하이퍼파라미터 공간 정의\n",
        "param_dist = {\n",
        "    'n_estimators': [50, 100, 200],\n",
        "    'max_depth': [6, 8, 10],\n",
        "    'min_samples_split': [2, 5, 8],\n",
        "    'min_samples_leaf': [1, 2, 4],\n",
        "    'max_features': ['sqrt', 'log2', None],\n",
        "    'bootstrap': [True, False]\n",
        "}\n",
        "\n",
        "# RandomizedSearchCV로 하이퍼파라미터 튜닝\n",
        "rf = RandomForestClassifier(random_state=42)\n",
        "random_search = RandomizedSearchCV(rf, param_distributions=param_dist, n_iter=50, cv=5, n_jobs=-1, random_state=42)\n",
        "\n",
        "# 모델 훈련\n",
        "random_search.fit(X_train, y_train)\n",
        "\n",
        "# 최적 하이퍼파라미터 출력\n",
        "print(\"Best parameters: \", random_search.best_params_)\n",
        "\n",
        "# 최적 모델로 예측\n",
        "best_rf = random_search.best_estimator_\n",
        "y_val_pred = best_rf.predict(X_val)\n",
        "\n",
        "# 성능 평가\n",
        "accuracy = accuracy_score(y_val, y_val_pred)\n",
        "print(f\"검증 데이터에 대한 정확도: {accuracy:.4f}\")\n",
        "print(classification_report(y_val, y_val_pred))\n"
      ]
    },
    {
      "cell_type": "markdown",
      "metadata": {
        "id": "ugXX7OvUGgFi"
      },
      "source": [
        "### SMOTE(오버샘플링)\n",
        "데이터의 개수가 적은 클래스의 표본을 가져온 뒤 임의의 값을 추가하여 새로운 샘플을 만들어 데이터에 추가하는 방식\n"
      ]
    },
    {
      "cell_type": "code",
      "execution_count": null,
      "metadata": {
        "colab": {
          "base_uri": "https://localhost:8080/"
        },
        "id": "U_mQpQqVGf0E",
        "outputId": "47e28c3f-8f4b-449c-ef89-b441bb46b670"
      },
      "outputs": [
        {
          "name": "stdout",
          "output_type": "stream",
          "text": [
            "Before SMOTE:  (8694, 4096) (8694,)\n",
            "After SMOTE:  (21132, 4096) (21132,)\n",
            "SMOTE 적용 후 label 값 분포: \n",
            " Class\n",
            "3    2348\n",
            "2    2348\n",
            "1    2348\n",
            "9    2348\n",
            "6    2348\n",
            "8    2348\n",
            "7    2348\n",
            "4    2348\n",
            "5    2348\n",
            "Name: count, dtype: int64\n",
            "Validation Accuracy: 0.9706\n",
            "              precision    recall  f1-score   support\n",
            "\n",
            "           1       0.92      0.98      0.95       314\n",
            "           2       0.98      0.97      0.98       486\n",
            "           3       1.00      1.00      1.00       594\n",
            "           4       0.92      0.98      0.95        87\n",
            "           5       0.71      0.71      0.71         7\n",
            "           6       0.95      0.93      0.94       135\n",
            "           7       0.99      0.99      0.99        87\n",
            "           8       1.00      0.90      0.95       249\n",
            "           9       0.95      0.99      0.97       215\n",
            "\n",
            "    accuracy                           0.97      2174\n",
            "   macro avg       0.94      0.94      0.94      2174\n",
            "weighted avg       0.97      0.97      0.97      2174\n",
            "\n"
          ]
        }
      ],
      "source": [
        "from sklearn.model_selection import train_test_split\n",
        "from imblearn.over_sampling import SMOTE\n",
        "from sklearn.ensemble import RandomForestClassifier\n",
        "from sklearn.metrics import classification_report, accuracy_score\n",
        "import numpy as np\n",
        "\n",
        "# 데이터 분할\n",
        "X_train, X_val, y_train, y_val = train_test_split(train_images, train_labels['Class'], test_size=0.2, random_state=42)\n",
        "\n",
        "# SMOTE 적용\n",
        "print(\"Before SMOTE: \", X_train.shape, y_train.shape)\n",
        "\n",
        "\n",
        "smote = SMOTE(random_state=42)\n",
        "X_train_resampled, y_train_resampled = smote.fit_resample(X_train, y_train)\n",
        "\n",
        "print(\"After SMOTE: \", X_train_resampled.shape, y_train_resampled.shape)\n",
        "\n",
        "print('SMOTE 적용 후 label 값 분포: \\n', pd.Series(y_train_resampled).value_counts())\n",
        "\n",
        "# 랜덤포레스트 모델 훈련\n",
        "rf = RandomForestClassifier(random_state=42, class_weight='balanced')\n",
        "rf.fit(X_train_resampled, y_train_resampled)\n",
        "\n",
        "# 검증 데이터에 대한 예측\n",
        "y_val_pred = rf.predict(X_val)\n",
        "\n",
        "# 성능 평가\n",
        "accuracy = accuracy_score(y_val, y_val_pred)\n",
        "print(f\"Validation Accuracy: {accuracy:.4f}\")\n",
        "print(classification_report(y_val, y_val_pred))\n"
      ]
    },
    {
      "cell_type": "markdown",
      "metadata": {
        "id": "Qv416QALOix-"
      },
      "source": [
        "### ADASYN\n"
      ]
    },
    {
      "cell_type": "code",
      "execution_count": null,
      "metadata": {
        "colab": {
          "base_uri": "https://localhost:8080/"
        },
        "id": "WvUnNZc7Oign",
        "outputId": "5b8cc126-c31e-4c79-8a95-77b75543b488"
      },
      "outputs": [
        {
          "name": "stdout",
          "output_type": "stream",
          "text": [
            "Validation Accuracy: 0.9706\n",
            "              precision    recall  f1-score   support\n",
            "\n",
            "           1       0.92      0.98      0.95       314\n",
            "           2       0.98      0.97      0.98       486\n",
            "           3       1.00      1.00      1.00       594\n",
            "           4       0.92      0.98      0.95        87\n",
            "           5       0.71      0.71      0.71         7\n",
            "           6       0.95      0.93      0.94       135\n",
            "           7       0.99      0.99      0.99        87\n",
            "           8       1.00      0.90      0.95       249\n",
            "           9       0.95      0.99      0.97       215\n",
            "\n",
            "    accuracy                           0.97      2174\n",
            "   macro avg       0.94      0.94      0.94      2174\n",
            "weighted avg       0.97      0.97      0.97      2174\n",
            "\n"
          ]
        }
      ],
      "source": [
        "from imblearn.over_sampling import ADASYN\n",
        "from sklearn.model_selection import train_test_split\n",
        "from sklearn.ensemble import RandomForestClassifier\n",
        "from sklearn.metrics import classification_report, accuracy_score\n",
        "import numpy as np\n",
        "\n",
        "\n",
        "# 데이터 분할\n",
        "X_train, X_val, y_train, y_val = train_test_split(train_images, train_labels['Class'], test_size=0.2, random_state=42)\n",
        "# 데이터 증대\n",
        "adasyn = ADASYN(random_state=42)\n",
        "X_resampled, y_resampled = adasyn.fit_resample(X_train, y_train)\n",
        "\n",
        "# 랜덤포레스트 모델 훈련\n",
        "rf = RandomForestClassifier(random_state=42, class_weight='balanced')\n",
        "rf.fit(X_train_resampled, y_train_resampled)\n",
        "\n",
        "# 검증 데이터에 대한 예측\n",
        "y_val_pred = rf.predict(X_val)\n",
        "\n",
        "# 성능 평가\n",
        "accuracy = accuracy_score(y_val, y_val_pred)\n",
        "print(f\"Validation Accuracy: {accuracy:.4f}\")\n",
        "print(classification_report(y_val, y_val_pred))\n",
        "\n"
      ]
    },
    {
      "cell_type": "markdown",
      "metadata": {
        "id": "G332y6xRB7a6"
      },
      "source": [
        "## GradientBoosting\n"
      ]
    },
    {
      "cell_type": "markdown",
      "metadata": {
        "id": "RqDlJk3z8UcA"
      },
      "source": [
        "이미지 데이터를 다시 로드하고, 그래디언트 부스팅 모델을 사용해서 분류한 결과\n",
        "- 클래스 5에 대한 지표들이 0으로 나타나는 문제를 해결하기 위해 사용함.\n",
        "- 지표가 상승하는 걸 확인함."
      ]
    },
    {
      "cell_type": "code",
      "execution_count": null,
      "metadata": {
        "colab": {
          "base_uri": "https://localhost:8080/"
        },
        "id": "jbYEloC7EEi9",
        "outputId": "b3f92106-d7da-4480-e2a0-8833beb418b9"
      },
      "outputs": [
        {
          "name": "stdout",
          "output_type": "stream",
          "text": [
            "Train Score: 0.9907407555926149\n",
            "Validation Score: 0.9446744984585006\n",
            "Accuracy on validation set: 0.9499\n",
            "              precision    recall  f1-score   support\n",
            "\n",
            "           1       0.91      0.94      0.92       314\n",
            "           2       0.96      0.96      0.96       486\n",
            "           3       0.99      1.00      1.00       594\n",
            "           4       0.92      0.89      0.90        87\n",
            "           5       0.17      0.14      0.15         7\n",
            "           6       0.84      0.88      0.86       135\n",
            "           7       0.99      0.94      0.96        87\n",
            "           8       0.95      0.90      0.92       249\n",
            "           9       0.95      0.96      0.96       215\n",
            "\n",
            "    accuracy                           0.95      2174\n",
            "   macro avg       0.85      0.85      0.85      2174\n",
            "weighted avg       0.95      0.95      0.95      2174\n",
            "\n"
          ]
        }
      ],
      "source": [
        "from sklearn.ensemble import GradientBoostingClassifier\n",
        "from sklearn.model_selection import train_test_split\n",
        "from sklearn.metrics import accuracy_score, classification_report\n",
        "from sklearn.model_selection import cross_validate\n",
        "\n",
        "\n",
        "# PCA로 차원 축소\n",
        "pca = PCA(n_components=50)\n",
        "train_pca = pca.fit_transform(train_images)  # 훈련 데이터에 대해 PCA 적용\n",
        "\n",
        "# 데이터 분할 (train_pca와 train_labels는 이미 PCA 처리된 데이터와 레이블)\n",
        "X_train, X_val, y_train, y_val = train_test_split(train_pca, train_labels['Class'], test_size=0.2, random_state=42)\n",
        "\n",
        "# 모델 훈련\n",
        "gb = GradientBoostingClassifier(n_estimators=100, random_state=42)\n",
        "scores = cross_validate(gb, X_train, y_train, cv=5, return_train_score=True, n_jobs=-1)\n",
        "gb.fit(X_train, y_train)\n",
        "\n",
        "print(\"Train Score:\", np.mean(scores['train_score']))\n",
        "print(\"Validation Score:\", np.mean(scores['test_score']))\n",
        "\n",
        "# 검증 데이터에 대한 예측\n",
        "y_val_pred = gb.predict(X_val)\n",
        "\n",
        "# 성능 평가\n",
        "accuracy = accuracy_score(y_val, y_val_pred)\n",
        "print(f\"Accuracy on validation set: {accuracy:.4f}\")\n",
        "print(classification_report(y_val, y_val_pred))\n"
      ]
    },
    {
      "cell_type": "code",
      "execution_count": null,
      "metadata": {
        "colab": {
          "base_uri": "https://localhost:8080/"
        },
        "id": "Cp3CnWhhEH6P",
        "outputId": "2e5a22b2-5a55-46c1-e051-1e597fc49e4e"
      },
      "outputs": [
        {
          "name": "stdout",
          "output_type": "stream",
          "text": [
            "Train Score: 0.991804705266626\n",
            "Validation Score: 0.9434096682682732\n",
            "Accuracy on validation set: 0.9494\n",
            "              precision    recall  f1-score   support\n",
            "\n",
            "           1       0.89      0.96      0.92       314\n",
            "           2       0.98      0.96      0.97       486\n",
            "           3       1.00      1.00      1.00       594\n",
            "           4       0.93      0.89      0.91        87\n",
            "           5       0.33      0.14      0.20         7\n",
            "           6       0.82      0.86      0.84       135\n",
            "           7       0.99      0.95      0.97        87\n",
            "           8       0.94      0.89      0.91       249\n",
            "           9       0.95      0.96      0.96       215\n",
            "\n",
            "    accuracy                           0.95      2174\n",
            "   macro avg       0.87      0.84      0.85      2174\n",
            "weighted avg       0.95      0.95      0.95      2174\n",
            "\n"
          ]
        }
      ],
      "source": [
        "from sklearn.ensemble import GradientBoostingClassifier\n",
        "from sklearn.model_selection import train_test_split\n",
        "from sklearn.metrics import accuracy_score, classification_report\n",
        "from sklearn.model_selection import cross_validate\n",
        "\n",
        "\n",
        "# PCA로 차원 축소\n",
        "pca = PCA(n_components=100)\n",
        "train_pca = pca.fit_transform(train_images)  # 훈련 데이터에 대해 PCA 적용\n",
        "\n",
        "# 데이터 분할 (train_pca와 train_labels는 이미 PCA 처리된 데이터와 레이블)\n",
        "X_train, X_val, y_train, y_val = train_test_split(train_pca, train_labels['Class'], test_size=0.2, random_state=42)\n",
        "\n",
        "# 모델 훈련\n",
        "gb = GradientBoostingClassifier(n_estimators=100, random_state=42)\n",
        "scores = cross_validate(gb, X_train, y_train, cv=5, return_train_score=True, n_jobs=-1)\n",
        "gb.fit(X_train, y_train)\n",
        "\n",
        "print(\"Train Score:\", np.mean(scores['train_score']))\n",
        "print(\"Validation Score:\", np.mean(scores['test_score']))\n",
        "\n",
        "# 검증 데이터에 대한 예측\n",
        "y_val_pred = gb.predict(X_val)\n",
        "\n",
        "# 성능 평가\n",
        "accuracy = accuracy_score(y_val, y_val_pred)\n",
        "print(f\"Accuracy on validation set: {accuracy:.4f}\")\n",
        "print(classification_report(y_val, y_val_pred))\n"
      ]
    },
    {
      "cell_type": "code",
      "execution_count": null,
      "metadata": {
        "colab": {
          "base_uri": "https://localhost:8080/"
        },
        "id": "5-PLZfjo1MPN",
        "outputId": "19f88b22-911a-4aeb-98cd-376b8f4ecf56"
      },
      "outputs": [
        {
          "name": "stdout",
          "output_type": "stream",
          "text": [
            "Train Score: 0.9924373271201666\n",
            "Validation Score: 0.9422599128766647\n",
            "Accuracy on validation set: 0.9494\n",
            "              precision    recall  f1-score   support\n",
            "\n",
            "           1       0.89      0.96      0.92       314\n",
            "           2       0.96      0.97      0.97       486\n",
            "           3       0.99      1.00      1.00       594\n",
            "           4       0.92      0.89      0.90        87\n",
            "           5       0.00      0.00      0.00         7\n",
            "           6       0.88      0.84      0.86       135\n",
            "           7       0.99      0.94      0.96        87\n",
            "           8       0.94      0.88      0.91       249\n",
            "           9       0.95      0.95      0.95       215\n",
            "\n",
            "    accuracy                           0.95      2174\n",
            "   macro avg       0.84      0.83      0.83      2174\n",
            "weighted avg       0.95      0.95      0.95      2174\n",
            "\n"
          ]
        }
      ],
      "source": [
        "from sklearn.ensemble import GradientBoostingClassifier\n",
        "from sklearn.model_selection import train_test_split\n",
        "from sklearn.metrics import accuracy_score, classification_report\n",
        "from sklearn.model_selection import cross_validate\n",
        "\n",
        "\n",
        "# PCA로 차원 축소\n",
        "pca = PCA(n_components=200)\n",
        "train_pca = pca.fit_transform(train_images)  # 훈련 데이터에 대해 PCA 적용\n",
        "\n",
        "# 데이터 분할 (train_pca와 train_labels는 이미 PCA 처리된 데이터와 레이블)\n",
        "X_train, X_val, y_train, y_val = train_test_split(train_pca, train_labels['Class'], test_size=0.2, random_state=42)\n",
        "\n",
        "# 모델 훈련\n",
        "gb = GradientBoostingClassifier(n_estimators=100, random_state=42)\n",
        "scores = cross_validate(gb, X_train, y_train, cv=5, return_train_score=True, n_jobs=-1)\n",
        "gb.fit(X_train, y_train)\n",
        "\n",
        "print(\"Train Score:\", np.mean(scores['train_score']))\n",
        "print(\"Validation Score:\", np.mean(scores['test_score']))\n",
        "\n",
        "# 검증 데이터에 대한 예측\n",
        "y_val_pred = gb.predict(X_val)\n",
        "\n",
        "# 성능 평가\n",
        "accuracy = accuracy_score(y_val, y_val_pred)\n",
        "print(f\"Accuracy on validation set: {accuracy:.4f}\")\n",
        "print(classification_report(y_val, y_val_pred))\n"
      ]
    },
    {
      "cell_type": "markdown",
      "metadata": {
        "id": "-dBWkDQyIkAr"
      },
      "source": [
        "적정 차원 크기는 100인 것으로 보임"
      ]
    },
    {
      "cell_type": "markdown",
      "metadata": {
        "id": "H4cw9YPFPPkg"
      },
      "source": [
        "## XGBoost\n",
        "\n",
        "그래디언트 부스팅을 개선한 알고리즘인 만큼, 실제 모델의 결과에서도 차이가 있는지 확인해보고자 함."
      ]
    },
    {
      "cell_type": "markdown",
      "metadata": {
        "id": "6vwvt4ygFBnb"
      },
      "source": [
        "### 기본 코드"
      ]
    },
    {
      "cell_type": "markdown",
      "metadata": {
        "id": "gIQeCocuBECT"
      },
      "source": [
        "**차원 개수 별 성능 차이 비교**\n",
        "\n",
        "n_components : 50, 100, 200 으로 나눠서 실습.\n",
        "- 원래 차원 개수는 4096개"
      ]
    },
    {
      "cell_type": "code",
      "execution_count": null,
      "metadata": {
        "colab": {
          "base_uri": "https://localhost:8080/"
        },
        "id": "uw3df44s_gW8",
        "outputId": "f799587a-622f-4bf6-e93e-13f1035ab091"
      },
      "outputs": [
        {
          "name": "stdout",
          "output_type": "stream",
          "text": [
            "trina_images shape: (10868, 4096)\n",
            "train_pca shape: (10868, 100)\n",
            "train_labels shape: (10868,)\n"
          ]
        }
      ],
      "source": [
        "print(f\"trina_images shape: {train_images.shape}\")\n",
        "print(f\"train_pca shape: {train_pca.shape}\")\n",
        "print(f\"train_labels shape: {train_labels['Class'].shape}\")\n"
      ]
    },
    {
      "cell_type": "code",
      "execution_count": null,
      "metadata": {
        "id": "NF9aCb6z-QD6"
      },
      "outputs": [],
      "source": [
        "# 레이블 변환 (0부터 시작)\n",
        "y_train_adjusted = y_train - 1\n",
        "y_val_adjusted = y_val - 1\n"
      ]
    },
    {
      "cell_type": "code",
      "execution_count": null,
      "metadata": {
        "colab": {
          "base_uri": "https://localhost:8080/"
        },
        "id": "koSfF17hJZwZ",
        "outputId": "7e67e2d0-f386-4256-e4e8-a987afe6f1cd"
      },
      "outputs": [
        {
          "name": "stdout",
          "output_type": "stream",
          "text": [
            "Train Score: 1.0\n",
            "Validation Score: 0.9589371561900514\n",
            "Validation Accuracy: 0.9673413063477461\n",
            "              precision    recall  f1-score   support\n",
            "\n",
            "           0       0.92      0.98      0.95       314\n",
            "           1       0.99      0.98      0.99       486\n",
            "           2       0.99      1.00      0.99       594\n",
            "           3       0.90      0.94      0.92        87\n",
            "           4       0.50      0.29      0.36         7\n",
            "           5       0.95      0.91      0.93       135\n",
            "           6       1.00      0.97      0.98        87\n",
            "           7       0.95      0.90      0.93       249\n",
            "           8       0.98      0.99      0.98       215\n",
            "\n",
            "    accuracy                           0.97      2174\n",
            "   macro avg       0.91      0.88      0.89      2174\n",
            "weighted avg       0.97      0.97      0.97      2174\n",
            "\n"
          ]
        }
      ],
      "source": [
        "from xgboost import XGBClassifier\n",
        "from sklearn.model_selection import train_test_split\n",
        "from sklearn.metrics import accuracy_score, classification_report\n",
        "\n",
        "\n",
        "# PCA로 차원 축소\n",
        "pca = PCA(n_components=50)\n",
        "train_pca = pca.fit_transform(train_images)  # 훈련 데이터에 대해 PCA 적용\n",
        "\n",
        "\n",
        "# 데이터 분할\n",
        "X_train, X_val, y_train, y_val = train_test_split(train_pca, train_labels['Class'], test_size=0.2, random_state=42)\n",
        "\n",
        "xgb = XGBClassifier(tree_method='hist', random_state=42)\n",
        "scores = cross_validate(xgb, X_train, y_train-1, cv=5, return_train_score=True, n_jobs=-1)\n",
        "xgb.fit(X_train, y_train-1)\n",
        "\n",
        "print(\"Train Score:\", np.mean(scores['train_score']))\n",
        "print(\"Validation Score:\", np.mean(scores['test_score']))\n",
        "\n",
        "# 검증 데이터 평가\n",
        "y_val_pred = xgb.predict(X_val)\n",
        "print(\"Validation Accuracy:\", accuracy_score(y_val - 1, y_val_pred))\n",
        "print(classification_report(y_val - 1, y_val_pred))\n"
      ]
    },
    {
      "cell_type": "code",
      "execution_count": null,
      "metadata": {
        "colab": {
          "base_uri": "https://localhost:8080/"
        },
        "id": "5VT2jaoLIy_c",
        "outputId": "d09fc213-ab16-4ac2-8401-2cf5a32ac9b0"
      },
      "outputs": [
        {
          "name": "stdout",
          "output_type": "stream",
          "text": [
            "Train Score: 1.0\n",
            "Validation Score: 0.9567519923027599\n",
            "Validation Accuracy: 0.9641214351425943\n",
            "              precision    recall  f1-score   support\n",
            "\n",
            "           0       0.92      0.97      0.94       314\n",
            "           1       0.99      0.98      0.98       486\n",
            "           2       0.99      1.00      0.99       594\n",
            "           3       0.93      0.94      0.94        87\n",
            "           4       0.50      0.29      0.36         7\n",
            "           5       0.92      0.90      0.91       135\n",
            "           6       0.99      0.98      0.98        87\n",
            "           7       0.95      0.90      0.92       249\n",
            "           8       0.98      0.97      0.97       215\n",
            "\n",
            "    accuracy                           0.96      2174\n",
            "   macro avg       0.91      0.88      0.89      2174\n",
            "weighted avg       0.96      0.96      0.96      2174\n",
            "\n"
          ]
        }
      ],
      "source": [
        "from xgboost import XGBClassifier\n",
        "from sklearn.model_selection import train_test_split\n",
        "from sklearn.metrics import accuracy_score, classification_report\n",
        "\n",
        "\n",
        "# PCA로 차원 축소\n",
        "pca = PCA(n_components=100)\n",
        "train_pca = pca.fit_transform(train_images)  # 훈련 데이터에 대해 PCA 적용\n",
        "\n",
        "\n",
        "# 데이터 분할\n",
        "X_train, X_val, y_train, y_val = train_test_split(train_pca, train_labels['Class'], test_size=0.2, random_state=42)\n",
        "\n",
        "xgb = XGBClassifier(tree_method='hist', random_state=42)\n",
        "scores = cross_validate(xgb, X_train, y_train-1, cv=5, return_train_score=True, n_jobs=-1)\n",
        "xgb.fit(X_train, y_train-1)\n",
        "\n",
        "print(\"Train Score:\", np.mean(scores['train_score']))\n",
        "print(\"Validation Score:\", np.mean(scores['test_score']))\n",
        "\n",
        "# 검증 데이터 평가\n",
        "y_val_pred = xgb.predict(X_val)\n",
        "print(\"Validation Accuracy:\", accuracy_score(y_val - 1, y_val_pred))\n",
        "print(classification_report(y_val - 1, y_val_pred))\n"
      ]
    },
    {
      "cell_type": "code",
      "execution_count": null,
      "metadata": {
        "colab": {
          "base_uri": "https://localhost:8080/"
        },
        "id": "7iYeex3e7YZv",
        "outputId": "1ce6746d-b8af-41c4-e9e9-1f93e8097518"
      },
      "outputs": [
        {
          "name": "stdout",
          "output_type": "stream",
          "text": [
            "Train Score: 1.0\n",
            "Validation Score: 0.955601641354402\n",
            "Validation Accuracy: 0.9604415823367065\n",
            "              precision    recall  f1-score   support\n",
            "\n",
            "           0       0.90      0.98      0.93       314\n",
            "           1       0.98      0.97      0.98       486\n",
            "           2       0.99      1.00      0.99       594\n",
            "           3       0.91      0.92      0.91        87\n",
            "           4       0.50      0.14      0.22         7\n",
            "           5       0.93      0.89      0.91       135\n",
            "           6       0.99      0.97      0.98        87\n",
            "           7       0.97      0.90      0.93       249\n",
            "           8       0.97      0.97      0.97       215\n",
            "\n",
            "    accuracy                           0.96      2174\n",
            "   macro avg       0.90      0.86      0.87      2174\n",
            "weighted avg       0.96      0.96      0.96      2174\n",
            "\n"
          ]
        }
      ],
      "source": [
        "from xgboost import XGBClassifier\n",
        "from sklearn.model_selection import train_test_split\n",
        "from sklearn.metrics import accuracy_score, classification_report\n",
        "from sklearn.model_selection import cross_validate\n",
        "from sklearn.decomposition import PCA\n",
        "\n",
        "# PCA로 차원 축소\n",
        "pca = PCA(n_components=200)\n",
        "train_pca = pca.fit_transform(train_images)  # 훈련 데이터에 대해 PCA 적용\n",
        "\n",
        "# 데이터 분할\n",
        "X_train, X_val, y_train, y_val = train_test_split(train_pca, train_labels['Class'], test_size=0.2, random_state=42)\n",
        "\n",
        "xgb = XGBClassifier(tree_method='hist', random_state=42)\n",
        "scores = cross_validate(xgb, X_train, y_train-1, cv=5, return_train_score=True, n_jobs=-1)\n",
        "xgb.fit(X_train, y_train-1)\n",
        "\n",
        "print(\"Train Score:\", np.mean(scores['train_score']))\n",
        "print(\"Validation Score:\", np.mean(scores['test_score']))\n",
        "\n",
        "# 검증 데이터 평가\n",
        "y_val_pred = xgb.predict(X_val)\n",
        "print(\"Validation Accuracy:\", accuracy_score(y_val - 1, y_val_pred))\n",
        "print(classification_report(y_val - 1, y_val_pred))\n"
      ]
    },
    {
      "cell_type": "code",
      "execution_count": null,
      "metadata": {
        "id": "ccFHS_fK8wYl"
      },
      "outputs": [],
      "source": [
        "print(train_images.shape)"
      ]
    },
    {
      "cell_type": "markdown",
      "metadata": {
        "id": "VtHY705L-A_n"
      },
      "source": [
        "- max_depth: 트리의 최대 깊이 (과적합 방지)\n",
        "- learning_rate: 학습률 (작을수록 더 많은 트리가 필요)\n",
        "- n_estimators: 트리 개수\n",
        "- subsample: 데이터 샘플링 비율\n",
        "- colsample_bytree: 각 트리에서 사용할 특성의 비율\n",
        "- eval_metric: 평가 척도 (예: mlogloss, error 등)\n",
        "- min_child_weight: 리프 노드가 가지는 최소 가중치 (과적합 방지)"
      ]
    },
    {
      "cell_type": "markdown",
      "metadata": {
        "id": "i-7A6uf4Be2n"
      },
      "source": [
        "### Grid Search"
      ]
    },
    {
      "cell_type": "code",
      "execution_count": null,
      "metadata": {
        "colab": {
          "base_uri": "https://localhost:8080/"
        },
        "id": "kmOr-8wf9s8v",
        "outputId": "5b548ee4-fea2-45a4-a4c1-dacf53e9a73c"
      },
      "outputs": [
        {
          "name": "stdout",
          "output_type": "stream",
          "text": [
            "Fitting 5 folds for each of 27 candidates, totalling 135 fits\n",
            "최적 파라미터: {'learning_rate': 0.15, 'max_depth': 5, 'n_estimators': 200}\n",
            "최고 정확도: 0.9604326653612946\n"
          ]
        }
      ],
      "source": [
        "from sklearn.model_selection import GridSearchCV\n",
        "from xgboost import XGBClassifier\n",
        "import pandas as pd\n",
        "# PCA로 차원 축소\n",
        "pca = PCA(n_components=50)\n",
        "train_pca = pca.fit_transform(train_images)  # 훈련 데이터에 대해 PCA 적용\n",
        "\n",
        "# 데이터 분할 (train_pca와 train_labels는 이미 PCA 처리된 데이터와 레이블)\n",
        "X_train, X_val, y_train, y_val = train_test_split(train_pca, train_labels['Class'], test_size=0.2, random_state=42)\n",
        "\n",
        "\n",
        "# 초기 모델 생성\n",
        "xgb_model = XGBClassifier(tree_method='hist', random_state=42)\n",
        "\n",
        "# 파라미터 그리드 설정\n",
        "xgb_param_grid={\n",
        "    'n_estimators' : [50, 100, 200],\n",
        "    'learning_rate' : [0.1,0.15, 0.2],\n",
        "    'max_depth' : [5,7,10],\n",
        "\n",
        "}\n",
        "\n",
        "# GridSearchCV 설정\n",
        "grid_search = GridSearchCV(estimator=xgb_model,\n",
        "                           param_grid=xgb_param_grid, cv=5,\n",
        "                           scoring='accuracy', verbose=1, n_jobs=-1)\n",
        "\n",
        "# 최적화 수행\n",
        "grid_search.fit(X_train, y_train-1)\n",
        "\n",
        "# 최적 파라미터 출력\n",
        "print(\"최적 파라미터:\", grid_search.best_params_)\n",
        "print(\"최고 정확도:\", grid_search.best_score_)\n",
        "\n",
        "\n",
        "\n",
        "\n"
      ]
    },
    {
      "cell_type": "code",
      "execution_count": null,
      "metadata": {
        "id": "l4H74lvBrF9K"
      },
      "outputs": [],
      "source": [
        "#최적 조합으로 모델 설정 후 수행\n",
        "xgb = grid_search.best_estimator_\n",
        "print(xgb.score(X_train, y_train-1))"
      ]
    },
    {
      "cell_type": "code",
      "execution_count": null,
      "metadata": {
        "colab": {
          "base_uri": "https://localhost:8080/"
        },
        "id": "PIVjc77qjy2_",
        "outputId": "ab14bc78-f37f-4465-f3b8-420e5797437e"
      },
      "outputs": [
        {
          "name": "stdout",
          "output_type": "stream",
          "text": [
            "Train Score: 1.0\n",
            "Validation Score: 0.9589375532278845\n",
            "Validation Accuracy: 0.9645814167433303\n",
            "              precision    recall  f1-score   support\n",
            "\n",
            "           0       0.92      0.97      0.95       314\n",
            "           1       0.99      0.98      0.98       486\n",
            "           2       0.99      1.00      0.99       594\n",
            "           3       0.89      0.94      0.92        87\n",
            "           4       0.00      0.00      0.00         7\n",
            "           5       0.95      0.92      0.94       135\n",
            "           6       0.99      0.98      0.98        87\n",
            "           7       0.94      0.90      0.92       249\n",
            "           8       0.98      0.98      0.98       215\n",
            "\n",
            "    accuracy                           0.96      2174\n",
            "   macro avg       0.85      0.85      0.85      2174\n",
            "weighted avg       0.96      0.96      0.96      2174\n",
            "\n"
          ]
        }
      ],
      "source": [
        "from sklearn.metrics import classification_report\n",
        "\n",
        "# PCA로 차원 축소\n",
        "pca = PCA(n_components=50)\n",
        "train_pca = pca.fit_transform(train_images)  # 훈련 데이터에 대해 PCA 적용\n",
        "\n",
        "# 데이터 분할 (train_pca와 train_labels는 이미 PCA 처리된 데이터와 레이블)\n",
        "X_train, X_val, y_train, y_val = train_test_split(train_pca, train_labels['Class'], test_size=0.2, random_state=42)\n",
        "\n",
        "\n",
        "# XGBoost 모델 생성\n",
        "xgb_model = XGBClassifier(tree_method='hist', learning_rate=0.15, max_depth=5, n_estimators=200, random_state=42)\n",
        "scores = cross_validate(xgb_model, X_train, y_train-1, cv=5, return_train_score=True, n_jobs=-1)\n",
        "print(\"Train Score:\", np.mean(scores['train_score']))\n",
        "print(\"Validation Score:\", np.mean(scores['test_score']))\n",
        "\n",
        "# 모델 훈련\n",
        "xgb_model.fit(X_train, y_train-1)\n",
        "\n",
        "# 검증 데이터에 대한 예측\n",
        "y_val_pred = xgb_model.predict(X_val)\n",
        "\n",
        "\n",
        "print(\"Validation Accuracy:\", accuracy_score(y_val - 1, y_val_pred))\n",
        "print(classification_report(y_val - 1, y_val_pred))\n"
      ]
    },
    {
      "cell_type": "markdown",
      "metadata": {
        "id": "Lblo9ZpanEZc"
      },
      "source": [
        "Ramnit, Lollipop, Kelihos_ver3\n",
        "Vundo, Simda, Tracur, Kelihos_ver1\n",
        "Obfuscator.ACY, Gatak"
      ]
    },
    {
      "cell_type": "markdown",
      "metadata": {
        "id": "HSwqBIttEYIM"
      },
      "source": [
        "## LightGBM"
      ]
    },
    {
      "cell_type": "markdown",
      "metadata": {
        "id": "lTrJnhvHElrM"
      },
      "source": [
        "### 기본 코드"
      ]
    },
    {
      "cell_type": "code",
      "execution_count": null,
      "metadata": {
        "colab": {
          "base_uri": "https://localhost:8080/"
        },
        "id": "RnnhVet1Em5X",
        "outputId": "9c01a383-3ba9-43ec-83db-11c8b2924320"
      },
      "outputs": [
        {
          "name": "stderr",
          "output_type": "stream",
          "text": [
            "/usr/local/lib/python3.10/dist-packages/dask/dataframe/__init__.py:42: FutureWarning: \n",
            "Dask dataframe query planning is disabled because dask-expr is not installed.\n",
            "\n",
            "You can install it with `pip install dask[dataframe]` or `conda install dask`.\n",
            "This will raise in a future version.\n",
            "\n",
            "  warnings.warn(msg, FutureWarning)\n"
          ]
        },
        {
          "name": "stdout",
          "output_type": "stream",
          "text": [
            "[LightGBM] [Info] Auto-choosing col-wise multi-threading, the overhead of testing was 0.001677 seconds.\n",
            "You can set `force_col_wise=true` to remove the overhead.\n",
            "[LightGBM] [Info] Total Bins 12750\n",
            "[LightGBM] [Info] Number of data points in the train set: 8694, number of used features: 50\n",
            "[LightGBM] [Info] Start training from score -1.958061\n",
            "[LightGBM] [Info] Start training from score -1.473494\n",
            "[LightGBM] [Info] Start training from score -1.309069\n",
            "[LightGBM] [Info] Start training from score -3.109383\n",
            "[LightGBM] [Info] Start training from score -5.515040\n",
            "[LightGBM] [Info] Start training from score -2.647141\n",
            "[LightGBM] [Info] Start training from score -3.330595\n",
            "[LightGBM] [Info] Start training from score -2.183857\n",
            "[LightGBM] [Info] Start training from score -2.388280\n",
            "[LightGBM] [Warning] No further splits with positive gain, best gain: -inf\n",
            "[LightGBM] [Warning] No further splits with positive gain, best gain: -inf\n",
            "[LightGBM] [Warning] No further splits with positive gain, best gain: -inf\n",
            "[LightGBM] [Warning] No further splits with positive gain, best gain: -inf\n",
            "[LightGBM] [Warning] No further splits with positive gain, best gain: -inf\n",
            "[LightGBM] [Warning] No further splits with positive gain, best gain: -inf\n",
            "[LightGBM] [Warning] No further splits with positive gain, best gain: -inf\n",
            "[LightGBM] [Warning] No further splits with positive gain, best gain: -inf\n",
            "[LightGBM] [Warning] No further splits with positive gain, best gain: -inf\n",
            "[LightGBM] [Warning] No further splits with positive gain, best gain: -inf\n",
            "[LightGBM] [Warning] No further splits with positive gain, best gain: -inf\n",
            "[LightGBM] [Warning] No further splits with positive gain, best gain: -inf\n",
            "[LightGBM] [Warning] No further splits with positive gain, best gain: -inf\n",
            "[LightGBM] [Warning] No further splits with positive gain, best gain: -inf\n",
            "[LightGBM] [Warning] No further splits with positive gain, best gain: -inf\n",
            "[LightGBM] [Warning] No further splits with positive gain, best gain: -inf\n",
            "[LightGBM] [Warning] No further splits with positive gain, best gain: -inf\n",
            "[LightGBM] [Warning] No further splits with positive gain, best gain: -inf\n",
            "[LightGBM] [Warning] No further splits with positive gain, best gain: -inf\n",
            "[LightGBM] [Warning] No further splits with positive gain, best gain: -inf\n",
            "[LightGBM] [Warning] No further splits with positive gain, best gain: -inf\n",
            "[LightGBM] [Warning] No further splits with positive gain, best gain: -inf\n",
            "[LightGBM] [Warning] No further splits with positive gain, best gain: -inf\n",
            "[LightGBM] [Warning] No further splits with positive gain, best gain: -inf\n",
            "[LightGBM] [Warning] No further splits with positive gain, best gain: -inf\n",
            "[LightGBM] [Warning] No further splits with positive gain, best gain: -inf\n",
            "[LightGBM] [Warning] No further splits with positive gain, best gain: -inf\n",
            "[LightGBM] [Warning] No further splits with positive gain, best gain: -inf\n",
            "[LightGBM] [Warning] No further splits with positive gain, best gain: -inf\n",
            "[LightGBM] [Warning] No further splits with positive gain, best gain: -inf\n",
            "[LightGBM] [Warning] No further splits with positive gain, best gain: -inf\n",
            "[LightGBM] [Warning] No further splits with positive gain, best gain: -inf\n",
            "[LightGBM] [Warning] No further splits with positive gain, best gain: -inf\n",
            "[LightGBM] [Warning] No further splits with positive gain, best gain: -inf\n",
            "[LightGBM] [Warning] No further splits with positive gain, best gain: -inf\n",
            "[LightGBM] [Warning] No further splits with positive gain, best gain: -inf\n",
            "[LightGBM] [Warning] No further splits with positive gain, best gain: -inf\n",
            "[LightGBM] [Warning] No further splits with positive gain, best gain: -inf\n",
            "[LightGBM] [Warning] No further splits with positive gain, best gain: -inf\n",
            "[LightGBM] [Warning] No further splits with positive gain, best gain: -inf\n",
            "[LightGBM] [Warning] No further splits with positive gain, best gain: -inf\n",
            "[LightGBM] [Warning] No further splits with positive gain, best gain: -inf\n",
            "[LightGBM] [Warning] No further splits with positive gain, best gain: -inf\n",
            "[LightGBM] [Warning] No further splits with positive gain, best gain: -inf\n",
            "[LightGBM] [Warning] No further splits with positive gain, best gain: -inf\n",
            "[LightGBM] [Warning] No further splits with positive gain, best gain: -inf\n",
            "[LightGBM] [Warning] No further splits with positive gain, best gain: -inf\n",
            "[LightGBM] [Warning] No further splits with positive gain, best gain: -inf\n",
            "[LightGBM] [Warning] No further splits with positive gain, best gain: -inf\n",
            "[LightGBM] [Warning] No further splits with positive gain, best gain: -inf\n",
            "[LightGBM] [Warning] No further splits with positive gain, best gain: -inf\n",
            "[LightGBM] [Warning] No further splits with positive gain, best gain: -inf\n",
            "[LightGBM] [Warning] No further splits with positive gain, best gain: -inf\n",
            "[LightGBM] [Warning] No further splits with positive gain, best gain: -inf\n",
            "[LightGBM] [Warning] No further splits with positive gain, best gain: -inf\n",
            "[LightGBM] [Warning] No further splits with positive gain, best gain: -inf\n",
            "[LightGBM] [Warning] No further splits with positive gain, best gain: -inf\n",
            "[LightGBM] [Warning] No further splits with positive gain, best gain: -inf\n",
            "[LightGBM] [Warning] No further splits with positive gain, best gain: -inf\n",
            "[LightGBM] [Warning] No further splits with positive gain, best gain: -inf\n",
            "[LightGBM] [Warning] No further splits with positive gain, best gain: -inf\n",
            "[LightGBM] [Warning] No further splits with positive gain, best gain: -inf\n",
            "[LightGBM] [Warning] No further splits with positive gain, best gain: -inf\n",
            "[LightGBM] [Warning] No further splits with positive gain, best gain: -inf\n",
            "[LightGBM] [Warning] No further splits with positive gain, best gain: -inf\n",
            "[LightGBM] [Warning] No further splits with positive gain, best gain: -inf\n",
            "[LightGBM] [Warning] No further splits with positive gain, best gain: -inf\n",
            "[LightGBM] [Warning] No further splits with positive gain, best gain: -inf\n",
            "[LightGBM] [Warning] No further splits with positive gain, best gain: -inf\n",
            "[LightGBM] [Warning] No further splits with positive gain, best gain: -inf\n",
            "[LightGBM] [Warning] No further splits with positive gain, best gain: -inf\n",
            "[LightGBM] [Warning] No further splits with positive gain, best gain: -inf\n",
            "[LightGBM] [Warning] No further splits with positive gain, best gain: -inf\n",
            "[LightGBM] [Warning] No further splits with positive gain, best gain: -inf\n",
            "[LightGBM] [Warning] No further splits with positive gain, best gain: -inf\n",
            "[LightGBM] [Warning] No further splits with positive gain, best gain: -inf\n",
            "[LightGBM] [Warning] No further splits with positive gain, best gain: -inf\n",
            "[LightGBM] [Warning] No further splits with positive gain, best gain: -inf\n",
            "[LightGBM] [Warning] No further splits with positive gain, best gain: -inf\n",
            "[LightGBM] [Warning] No further splits with positive gain, best gain: -inf\n",
            "[LightGBM] [Warning] No further splits with positive gain, best gain: -inf\n",
            "Train Score: 1.0\n",
            "Validation Score: 0.9603177890815919\n",
            "Validation Accuracy: 0.9659613615455381\n",
            "              precision    recall  f1-score   support\n",
            "\n",
            "           1       0.91      0.98      0.95       314\n",
            "           2       1.00      0.98      0.99       486\n",
            "           3       0.99      0.99      0.99       594\n",
            "           4       0.91      0.94      0.93        87\n",
            "           5       0.00      0.00      0.00         7\n",
            "           6       0.94      0.91      0.92       135\n",
            "           7       0.99      0.98      0.98        87\n",
            "           8       0.93      0.90      0.92       249\n",
            "           9       0.98      0.99      0.98       215\n",
            "\n",
            "    accuracy                           0.97      2174\n",
            "   macro avg       0.85      0.85      0.85      2174\n",
            "weighted avg       0.96      0.97      0.96      2174\n",
            "\n"
          ]
        }
      ],
      "source": [
        "from lightgbm import LGBMClassifier\n",
        "from sklearn.model_selection import train_test_split\n",
        "from sklearn.metrics import accuracy_score, classification_report\n",
        "from sklearn.model_selection import cross_validate\n",
        "from sklearn.decomposition import PCA\n",
        "# PCA로 차원 축소\n",
        "pca = PCA(n_components=50)\n",
        "train_pca = pca.fit_transform(train_images)  # 훈련 데이터에 대해 PCA 적용\n",
        "\n",
        "X_train, X_val, y_train, y_val = train_test_split(train_pca, train_labels['Class'], test_size=0.2, random_state=42)\n",
        "\n",
        "lgb = LGBMClassifier(random_state=42)\n",
        "scores = cross_validate(lgb, X_train, y_train, cv=5, return_train_score=True, n_jobs=-1)\n",
        "lgb.fit(X_train, y_train)\n",
        "\n",
        "print(\"Train Score:\", np.mean(scores['train_score']))\n",
        "print(\"Validation Score:\", np.mean(scores['test_score']))\n",
        "\n",
        "# 검증 데이터 평가\n",
        "y_val_pred = lgb.predict(X_val)\n",
        "print(\"Validation Accuracy:\", accuracy_score(y_val, y_val_pred))\n",
        "print(classification_report(y_val, y_val_pred))"
      ]
    },
    {
      "cell_type": "markdown",
      "metadata": {
        "id": "7LQbFgntWQhK"
      },
      "source": [
        "## test 이미지 데이터 로드\n"
      ]
    },
    {
      "cell_type": "code",
      "execution_count": null,
      "metadata": {
        "colab": {
          "base_uri": "https://localhost:8080/",
          "height": 801
        },
        "id": "ksIvsVAQWSTP",
        "outputId": "450a3340-3264-4bd2-ac31-afb03f2d9a67"
      },
      "outputs": [
        {
          "name": "stdout",
          "output_type": "stream",
          "text": [
            "flatten 이전 이미지 크기: (64, 64)\n"
          ]
        },
        {
          "data": {
            "image/png": "[encoded data removed]",
            "text/plain": [
              "<Figure size 400x400 with 1 Axes>"
            ]
          },
          "metadata": {},
          "output_type": "display_data"
        },
        {
          "name": "stdout",
          "output_type": "stream",
          "text": [
            "flatten 이후 이미지 크기: (4096,)\n"
          ]
        },
        {
          "data": {
            "image/png": "[encoded data removed]",
            "text/plain": [
              "<Figure size 400x400 with 1 Axes>"
            ]
          },
          "metadata": {},
          "output_type": "display_data"
        }
      ],
      "source": [
        "from skimage.transform import resize\n",
        "from skimage.io import imread\n",
        "import numpy as np\n",
        "import matplotlib.pyplot as plt\n",
        "\n",
        "# 하나의 이미지 로딩 및 flatten 비교 함수\n",
        "def load_and_compare_image(image_path, target_size=(64, 64)):\n",
        "    img = imread(image_path)  # 이미지 로드 (흑백 이미지로 읽기)\n",
        "    img_resized = resize(img, target_size, anti_aliasing=True)  # 크기 고정 64x64\n",
        "\n",
        "    # flatten 이전의 이미지 출력 (2D)\n",
        "    print(f\"flatten 이전 이미지 크기: {img_resized.shape}\")\n",
        "    plt.figure(figsize=(4, 4))\n",
        "    plt.imshow(img_resized, cmap='gray')\n",
        "    plt.title(\"Before Flatten\")\n",
        "    plt.show()\n",
        "\n",
        "    img_flatten = img_resized.flatten()  # flatten\n",
        "\n",
        "    # flatten 이후의 이미지 출력 (1D)\n",
        "    print(f\"flatten 이후 이미지 크기: {img_flatten.shape}\")\n",
        "    plt.figure(figsize=(4, 4))\n",
        "    plt.plot(img_flatten)  # 1D 배열을 플로팅 (픽셀값을 선으로 표현)\n",
        "    plt.title(\"After Flatten\")\n",
        "    plt.show()\n",
        "\n",
        "    return img_flatten  # flatten된 이미지 반환\n",
        "\n",
        "# 사용 예시: 하나의 이미지 로드 및 비교\n",
        "image_path = '/content/drive/MyDrive/AI_SWU_PROJECT/processed_images/test/default_class/ITSUPtCmh7WdJcsYDwQ5.png'  # 이미지 파일 경로\n",
        "flattened_image = load_and_compare_image(image_path, target_size=(64, 64))\n"
      ]
    },
    {
      "cell_type": "code",
      "execution_count": null,
      "metadata": {
        "colab": {
          "background_save": true,
          "base_uri": "https://localhost:8080/"
        },
        "id": "z-sHoXBYcm0U",
        "outputId": "647bc3a3-57df-49df-9217-aed0891aa228"
      },
      "outputs": [
        {
          "name": "stdout",
          "output_type": "stream",
          "text": [
            "총 10873개의 이미지를 로드합니다.\n",
            "100/10873 이미지 로드 완료...\n",
            "200/10873 이미지 로드 완료...\n",
            "300/10873 이미지 로드 완료...\n",
            "400/10873 이미지 로드 완료...\n",
            "500/10873 이미지 로드 완료...\n",
            "600/10873 이미지 로드 완료...\n",
            "700/10873 이미지 로드 완료...\n",
            "800/10873 이미지 로드 완료...\n",
            "900/10873 이미지 로드 완료...\n",
            "1000/10873 이미지 로드 완료...\n",
            "1100/10873 이미지 로드 완료...\n",
            "1200/10873 이미지 로드 완료...\n",
            "1300/10873 이미지 로드 완료...\n",
            "1400/10873 이미지 로드 완료...\n",
            "1500/10873 이미지 로드 완료...\n",
            "1600/10873 이미지 로드 완료...\n",
            "1700/10873 이미지 로드 완료...\n",
            "1800/10873 이미지 로드 완료...\n",
            "1900/10873 이미지 로드 완료...\n",
            "2000/10873 이미지 로드 완료...\n",
            "2100/10873 이미지 로드 완료...\n",
            "2200/10873 이미지 로드 완료...\n",
            "2300/10873 이미지 로드 완료...\n",
            "2400/10873 이미지 로드 완료...\n",
            "2500/10873 이미지 로드 완료...\n",
            "2600/10873 이미지 로드 완료...\n",
            "2700/10873 이미지 로드 완료...\n",
            "2800/10873 이미지 로드 완료...\n",
            "2900/10873 이미지 로드 완료...\n",
            "3000/10873 이미지 로드 완료...\n",
            "3100/10873 이미지 로드 완료...\n",
            "3200/10873 이미지 로드 완료...\n",
            "3300/10873 이미지 로드 완료...\n",
            "3400/10873 이미지 로드 완료...\n",
            "3500/10873 이미지 로드 완료...\n",
            "3600/10873 이미지 로드 완료...\n",
            "3700/10873 이미지 로드 완료...\n",
            "3800/10873 이미지 로드 완료...\n",
            "3900/10873 이미지 로드 완료...\n",
            "4000/10873 이미지 로드 완료...\n",
            "4100/10873 이미지 로드 완료...\n",
            "4200/10873 이미지 로드 완료...\n",
            "4300/10873 이미지 로드 완료...\n",
            "4400/10873 이미지 로드 완료...\n",
            "4500/10873 이미지 로드 완료...\n",
            "4600/10873 이미지 로드 완료...\n",
            "4700/10873 이미지 로드 완료...\n",
            "4800/10873 이미지 로드 완료...\n",
            "4900/10873 이미지 로드 완료...\n",
            "5000/10873 이미지 로드 완료...\n",
            "5100/10873 이미지 로드 완료...\n",
            "5200/10873 이미지 로드 완료...\n",
            "5300/10873 이미지 로드 완료...\n",
            "5400/10873 이미지 로드 완료...\n",
            "5500/10873 이미지 로드 완료...\n",
            "5600/10873 이미지 로드 완료...\n",
            "5700/10873 이미지 로드 완료...\n",
            "5800/10873 이미지 로드 완료...\n",
            "5900/10873 이미지 로드 완료...\n",
            "6000/10873 이미지 로드 완료...\n",
            "6100/10873 이미지 로드 완료...\n",
            "6200/10873 이미지 로드 완료...\n",
            "6300/10873 이미지 로드 완료...\n",
            "6400/10873 이미지 로드 완료...\n",
            "6500/10873 이미지 로드 완료...\n",
            "6600/10873 이미지 로드 완료...\n",
            "6700/10873 이미지 로드 완료...\n",
            "6800/10873 이미지 로드 완료...\n",
            "6900/10873 이미지 로드 완료...\n",
            "7000/10873 이미지 로드 완료...\n",
            "7100/10873 이미지 로드 완료...\n",
            "7200/10873 이미지 로드 완료...\n",
            "7300/10873 이미지 로드 완료...\n",
            "7400/10873 이미지 로드 완료...\n",
            "7500/10873 이미지 로드 완료...\n",
            "7600/10873 이미지 로드 완료...\n",
            "7700/10873 이미지 로드 완료...\n",
            "7800/10873 이미지 로드 완료...\n",
            "7900/10873 이미지 로드 완료...\n",
            "8000/10873 이미지 로드 완료...\n",
            "8100/10873 이미지 로드 완료...\n",
            "8200/10873 이미지 로드 완료...\n",
            "8300/10873 이미지 로드 완료...\n",
            "8400/10873 이미지 로드 완료...\n",
            "8500/10873 이미지 로드 완료...\n",
            "8600/10873 이미지 로드 완료...\n",
            "8700/10873 이미지 로드 완료...\n",
            "8800/10873 이미지 로드 완료...\n",
            "8900/10873 이미지 로드 완료...\n",
            "9000/10873 이미지 로드 완료...\n",
            "9100/10873 이미지 로드 완료...\n",
            "9200/10873 이미지 로드 완료...\n",
            "9300/10873 이미지 로드 완료...\n",
            "9400/10873 이미지 로드 완료...\n",
            "9500/10873 이미지 로드 완료...\n",
            "9600/10873 이미지 로드 완료...\n",
            "9700/10873 이미지 로드 완료...\n",
            "9800/10873 이미지 로드 완료...\n",
            "9900/10873 이미지 로드 완료...\n",
            "10000/10873 이미지 로드 완료...\n",
            "10100/10873 이미지 로드 완료...\n",
            "10200/10873 이미지 로드 완료...\n",
            "10300/10873 이미지 로드 완료...\n",
            "10400/10873 이미지 로드 완료...\n",
            "10500/10873 이미지 로드 완료...\n",
            "10600/10873 이미지 로드 완료...\n",
            "10700/10873 이미지 로드 완료...\n",
            "10800/10873 이미지 로드 완료...\n",
            "10873/10873 이미지 로드 완료...\n",
            "테스트 이미지 로딩 완료.\n"
          ]
        }
      ],
      "source": [
        "from skimage.transform import resize\n",
        "from skimage.io import imread\n",
        "import os\n",
        "import numpy as np\n",
        "\n",
        "# 이미지 로딩 함수 (테스트 데이터, 라벨 없음)\n",
        "def load_test_images(image_dir, target_size=(64, 64)):\n",
        "    images = []\n",
        "    image_files = os.listdir(image_dir)  # 이미지 파일 목록 가져오기\n",
        "    total = len(image_files)  # 총 이미지 개수\n",
        "    print(f\"총 {total}개의 이미지를 로드합니다.\")\n",
        "\n",
        "    for idx, img_name in enumerate(image_files, start=1):\n",
        "        img_path = os.path.join(image_dir, img_name)\n",
        "\n",
        "        if os.path.exists(img_path) and img_name.endswith('.png'):  # .png 파일만 로드\n",
        "            img = imread(img_path)  # 흑백 이미지로 로드\n",
        "            img_resized = resize(img, target_size, anti_aliasing=True)  # 크기 고정 64x64\n",
        "            img_flatten = img_resized.flatten()  # flatten\n",
        "            images.append(img_flatten)\n",
        "\n",
        "        # 진행 상황 출력\n",
        "        if idx % 100 == 0 or idx == total:  # 100개마다 혹은 마지막 파일에서 출력\n",
        "            print(f\"{idx}/{total} 이미지 로드 완료...\")\n",
        "\n",
        "    print(\"테스트 이미지 로딩 완료.\")\n",
        "    return np.array(images)\n",
        "\n",
        "# 테스트 이미지 로드\n",
        "test_image_dir = '/content/drive/MyDrive/AI_SWU_PROJECT/processed_images/test/default_class'  # 테스트 이미지가 저장된 디렉토리\n",
        "test_images = load_test_images(test_image_dir, target_size=(64, 64))\n"
      ]
    }
  ],
  "metadata": {
    "accelerator": "GPU",
    "colab": {
      "gpuType": "L4",
      "provenance": [],
      "include_colab_link": true
    },
    "kernelspec": {
      "display_name": "Python 3",
      "name": "python3"
    },
    "language_info": {
      "name": "python"
    }
  },
  "nbformat": 4,
  "nbformat_minor": 0
}